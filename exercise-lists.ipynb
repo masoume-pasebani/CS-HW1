{
 "cells": [
  {
   "cell_type": "markdown",
   "id": "56fe26e6",
   "metadata": {
    "papermill": {
     "duration": 0.008922,
     "end_time": "2023-02-20T20:20:19.626323",
     "exception": false,
     "start_time": "2023-02-20T20:20:19.617401",
     "status": "completed"
    },
    "tags": []
   },
   "source": [
    "**This notebook is an exercise in the [Python](https://www.kaggle.com/learn/python) course.  You can reference the tutorial at [this link](https://www.kaggle.com/colinmorris/lists).**\n",
    "\n",
    "---\n"
   ]
  },
  {
   "cell_type": "markdown",
   "id": "4a671611",
   "metadata": {
    "papermill": {
     "duration": 0.00482,
     "end_time": "2023-02-20T20:20:19.636197",
     "exception": false,
     "start_time": "2023-02-20T20:20:19.631377",
     "status": "completed"
    },
    "tags": []
   },
   "source": [
    "Things get more interesting with lists. You'll apply your new knowledge to solve the questions below. Remember to run the following cell first."
   ]
  },
  {
   "cell_type": "code",
   "execution_count": 1,
   "id": "22585c6f",
   "metadata": {
    "execution": {
     "iopub.execute_input": "2023-02-20T20:20:19.649122Z",
     "iopub.status.busy": "2023-02-20T20:20:19.647913Z",
     "iopub.status.idle": "2023-02-20T20:20:19.700423Z",
     "shell.execute_reply": "2023-02-20T20:20:19.699153Z"
    },
    "papermill": {
     "duration": 0.06239,
     "end_time": "2023-02-20T20:20:19.703641",
     "exception": false,
     "start_time": "2023-02-20T20:20:19.641251",
     "status": "completed"
    },
    "tags": []
   },
   "outputs": [
    {
     "name": "stdout",
     "output_type": "stream",
     "text": [
      "Setup complete.\n"
     ]
    }
   ],
   "source": [
    "from learntools.core import binder; binder.bind(globals())\n",
    "from learntools.python.ex4 import *\n",
    "print('Setup complete.')"
   ]
  },
  {
   "cell_type": "markdown",
   "id": "041563e8",
   "metadata": {
    "papermill": {
     "duration": 0.004949,
     "end_time": "2023-02-20T20:20:19.713894",
     "exception": false,
     "start_time": "2023-02-20T20:20:19.708945",
     "status": "completed"
    },
    "tags": []
   },
   "source": [
    "# 1.\n",
    "\n",
    "Complete the function below according to its docstring."
   ]
  },
  {
   "cell_type": "code",
   "execution_count": 2,
   "id": "4601c64c",
   "metadata": {
    "execution": {
     "iopub.execute_input": "2023-02-20T20:20:19.726386Z",
     "iopub.status.busy": "2023-02-20T20:20:19.725637Z",
     "iopub.status.idle": "2023-02-20T20:20:19.737844Z",
     "shell.execute_reply": "2023-02-20T20:20:19.736816Z"
    },
    "papermill": {
     "duration": 0.021053,
     "end_time": "2023-02-20T20:20:19.740109",
     "exception": false,
     "start_time": "2023-02-20T20:20:19.719056",
     "status": "completed"
    },
    "tags": []
   },
   "outputs": [
    {
     "data": {
      "application/javascript": [
       "parent.postMessage({\"jupyterEvent\": \"custom.exercise_interaction\", \"data\": {\"outcomeType\": 1, \"valueTowardsCompletion\": 0.2, \"interactionType\": 1, \"questionType\": 2, \"questionId\": \"1_SelectSecondItem\", \"learnToolsVersion\": \"0.3.4\", \"failureMessage\": \"\", \"exceptionClass\": \"\", \"trace\": \"\"}}, \"*\")"
      ],
      "text/plain": [
       "<IPython.core.display.Javascript object>"
      ]
     },
     "metadata": {},
     "output_type": "display_data"
    },
    {
     "data": {
      "text/markdown": [
       "<span style=\"color:#33cc33\">Correct</span>"
      ],
      "text/plain": [
       "Correct"
      ]
     },
     "metadata": {},
     "output_type": "display_data"
    }
   ],
   "source": [
    "def select_second(L):\n",
    "    \"\"\"Return the second element of the given list. If the list has no second\n",
    "    element, return None.\n",
    "    \"\"\"\n",
    "    if len(L) < 2:\n",
    "        return None\n",
    "    else:\n",
    "        return L[1]\n",
    "    pass\n",
    "\n",
    "# Check your answer\n",
    "q1.check()"
   ]
  },
  {
   "cell_type": "code",
   "execution_count": 3,
   "id": "5233850c",
   "metadata": {
    "execution": {
     "iopub.execute_input": "2023-02-20T20:20:19.752762Z",
     "iopub.status.busy": "2023-02-20T20:20:19.752061Z",
     "iopub.status.idle": "2023-02-20T20:20:19.755737Z",
     "shell.execute_reply": "2023-02-20T20:20:19.755001Z"
    },
    "papermill": {
     "duration": 0.012447,
     "end_time": "2023-02-20T20:20:19.757844",
     "exception": false,
     "start_time": "2023-02-20T20:20:19.745397",
     "status": "completed"
    },
    "tags": []
   },
   "outputs": [],
   "source": [
    "#q1.hint()\n",
    "#q1.solution()"
   ]
  },
  {
   "cell_type": "markdown",
   "id": "ac593289",
   "metadata": {
    "papermill": {
     "duration": 0.004812,
     "end_time": "2023-02-20T20:20:19.767847",
     "exception": false,
     "start_time": "2023-02-20T20:20:19.763035",
     "status": "completed"
    },
    "tags": []
   },
   "source": [
    "# 2.\n",
    "\n",
    "You are analyzing sports teams.  Members of each team are stored in a list. The Coach is the first name in the list, the captain is the second name in the list, and other players are listed after that. \n",
    "These lists are stored in another list, which starts with the best team and proceeds through the list to the worst team last.  Complete the function below to select the **captain** of the worst team."
   ]
  },
  {
   "cell_type": "code",
   "execution_count": 4,
   "id": "ccf9cfc1",
   "metadata": {
    "execution": {
     "iopub.execute_input": "2023-02-20T20:20:19.780196Z",
     "iopub.status.busy": "2023-02-20T20:20:19.779506Z",
     "iopub.status.idle": "2023-02-20T20:20:19.786950Z",
     "shell.execute_reply": "2023-02-20T20:20:19.786229Z"
    },
    "papermill": {
     "duration": 0.015996,
     "end_time": "2023-02-20T20:20:19.789001",
     "exception": false,
     "start_time": "2023-02-20T20:20:19.773005",
     "status": "completed"
    },
    "tags": []
   },
   "outputs": [
    {
     "data": {
      "application/javascript": [
       "parent.postMessage({\"jupyterEvent\": \"custom.exercise_interaction\", \"data\": {\"outcomeType\": 1, \"valueTowardsCompletion\": 0.2, \"interactionType\": 1, \"questionType\": 2, \"questionId\": \"2_LosingTeamCaptain\", \"learnToolsVersion\": \"0.3.4\", \"failureMessage\": \"\", \"exceptionClass\": \"\", \"trace\": \"\"}}, \"*\")"
      ],
      "text/plain": [
       "<IPython.core.display.Javascript object>"
      ]
     },
     "metadata": {},
     "output_type": "display_data"
    },
    {
     "data": {
      "text/markdown": [
       "<span style=\"color:#33cc33\">Correct</span>"
      ],
      "text/plain": [
       "Correct"
      ]
     },
     "metadata": {},
     "output_type": "display_data"
    }
   ],
   "source": [
    "def losing_team_captain(teams):\n",
    "    \"\"\"Given a list of teams, where each team is a list of names, return the 2nd player (captain)\n",
    "    from the last listed team\n",
    "    \"\"\"\n",
    "    return teams[-1][1]\n",
    "    pass\n",
    "\n",
    "# Check your answer\n",
    "q2.check()"
   ]
  },
  {
   "cell_type": "code",
   "execution_count": 5,
   "id": "64cd14ff",
   "metadata": {
    "execution": {
     "iopub.execute_input": "2023-02-20T20:20:19.801678Z",
     "iopub.status.busy": "2023-02-20T20:20:19.800990Z",
     "iopub.status.idle": "2023-02-20T20:20:19.804629Z",
     "shell.execute_reply": "2023-02-20T20:20:19.803877Z"
    },
    "papermill": {
     "duration": 0.012263,
     "end_time": "2023-02-20T20:20:19.806645",
     "exception": false,
     "start_time": "2023-02-20T20:20:19.794382",
     "status": "completed"
    },
    "tags": []
   },
   "outputs": [],
   "source": [
    "#q2.hint()\n",
    "#q2.solution()"
   ]
  },
  {
   "cell_type": "markdown",
   "id": "59923c23",
   "metadata": {
    "papermill": {
     "duration": 0.005254,
     "end_time": "2023-02-20T20:20:19.817501",
     "exception": false,
     "start_time": "2023-02-20T20:20:19.812247",
     "status": "completed"
    },
    "tags": []
   },
   "source": [
    "# 3.\n",
    "\n",
    "The next iteration of Mario Kart will feature an extra-infuriating new item, the *Purple Shell*. When used, it warps the last place racer into first place and the first place racer into last place. Complete the function below to implement the Purple Shell's effect."
   ]
  },
  {
   "cell_type": "code",
   "execution_count": 6,
   "id": "56c8a625",
   "metadata": {
    "execution": {
     "iopub.execute_input": "2023-02-20T20:20:19.829994Z",
     "iopub.status.busy": "2023-02-20T20:20:19.829587Z",
     "iopub.status.idle": "2023-02-20T20:20:19.840320Z",
     "shell.execute_reply": "2023-02-20T20:20:19.839231Z"
    },
    "papermill": {
     "duration": 0.019699,
     "end_time": "2023-02-20T20:20:19.842551",
     "exception": false,
     "start_time": "2023-02-20T20:20:19.822852",
     "status": "completed"
    },
    "tags": []
   },
   "outputs": [
    {
     "data": {
      "application/javascript": [
       "parent.postMessage({\"jupyterEvent\": \"custom.exercise_interaction\", \"data\": {\"outcomeType\": 1, \"valueTowardsCompletion\": 0.2, \"interactionType\": 1, \"questionType\": 2, \"questionId\": \"3_PurpleShell\", \"learnToolsVersion\": \"0.3.4\", \"failureMessage\": \"\", \"exceptionClass\": \"\", \"trace\": \"\"}}, \"*\")"
      ],
      "text/plain": [
       "<IPython.core.display.Javascript object>"
      ]
     },
     "metadata": {},
     "output_type": "display_data"
    },
    {
     "data": {
      "text/markdown": [
       "<span style=\"color:#33cc33\">Correct</span>"
      ],
      "text/plain": [
       "Correct"
      ]
     },
     "metadata": {},
     "output_type": "display_data"
    }
   ],
   "source": [
    "def purple_shell(racers):\n",
    "    \"\"\"Given a list of racers, set the first place racer (at the front of the list) to last\n",
    "    place and vice versa.\n",
    "    \n",
    "    >>> r = [\"Mario\", \"Bowser\", \"Luigi\"]\n",
    "    >>> purple_shell(r)\n",
    "    >>> r\n",
    "    [\"Luigi\", \"Bowser\", \"Mario\"]\n",
    "    \"\"\"\n",
    "    temp = racers[0]\n",
    "    racers[0] = racers[-1]\n",
    "    racers[-1] = temp\n",
    "    pass\n",
    "\n",
    "# Check your answer\n",
    "q3.check()"
   ]
  },
  {
   "cell_type": "code",
   "execution_count": 7,
   "id": "4a568012",
   "metadata": {
    "execution": {
     "iopub.execute_input": "2023-02-20T20:20:19.855904Z",
     "iopub.status.busy": "2023-02-20T20:20:19.855526Z",
     "iopub.status.idle": "2023-02-20T20:20:19.860556Z",
     "shell.execute_reply": "2023-02-20T20:20:19.859483Z"
    },
    "papermill": {
     "duration": 0.014545,
     "end_time": "2023-02-20T20:20:19.862812",
     "exception": false,
     "start_time": "2023-02-20T20:20:19.848267",
     "status": "completed"
    },
    "tags": []
   },
   "outputs": [],
   "source": [
    "#q3.hint()\n",
    "#q3.solution()"
   ]
  },
  {
   "cell_type": "markdown",
   "id": "513c4d89",
   "metadata": {
    "papermill": {
     "duration": 0.005317,
     "end_time": "2023-02-20T20:20:19.873789",
     "exception": false,
     "start_time": "2023-02-20T20:20:19.868472",
     "status": "completed"
    },
    "tags": []
   },
   "source": [
    "# 4.\n",
    "\n",
    "What are the lengths of the following lists? Fill in the variable `lengths` with your predictions. (Try to make a prediction for each list *without* just calling `len()` on it.)"
   ]
  },
  {
   "cell_type": "code",
   "execution_count": 8,
   "id": "577e3b97",
   "metadata": {
    "execution": {
     "iopub.execute_input": "2023-02-20T20:20:19.887177Z",
     "iopub.status.busy": "2023-02-20T20:20:19.886533Z",
     "iopub.status.idle": "2023-02-20T20:20:19.896516Z",
     "shell.execute_reply": "2023-02-20T20:20:19.895657Z"
    },
    "papermill": {
     "duration": 0.019132,
     "end_time": "2023-02-20T20:20:19.898574",
     "exception": false,
     "start_time": "2023-02-20T20:20:19.879442",
     "status": "completed"
    },
    "tags": []
   },
   "outputs": [
    {
     "data": {
      "application/javascript": [
       "parent.postMessage({\"jupyterEvent\": \"custom.exercise_interaction\", \"data\": {\"outcomeType\": 1, \"valueTowardsCompletion\": 0.2, \"interactionType\": 1, \"questionType\": 1, \"questionId\": \"4_UnderstandLen\", \"learnToolsVersion\": \"0.3.4\", \"failureMessage\": \"\", \"exceptionClass\": \"\", \"trace\": \"\"}}, \"*\")"
      ],
      "text/plain": [
       "<IPython.core.display.Javascript object>"
      ]
     },
     "metadata": {},
     "output_type": "display_data"
    },
    {
     "data": {
      "text/markdown": [
       "<span style=\"color:#33cc33\">Correct:</span> \n",
       "\n",
       "\n",
       "- a: There are three items in this list. Nothing tricky yet.\n",
       "- b: The list `[2, 3]` counts as a single item. It has one item before it. So we have 2 items in the list\n",
       "- c: The empty list has 0 items\n",
       "- d: The expression is the same as the list `[2, 3]`, which has length 2."
      ],
      "text/plain": [
       "Correct: \n",
       "\n",
       "\n",
       "- a: There are three items in this list. Nothing tricky yet.\n",
       "- b: The list `[2, 3]` counts as a single item. It has one item before it. So we have 2 items in the list\n",
       "- c: The empty list has 0 items\n",
       "- d: The expression is the same as the list `[2, 3]`, which has length 2."
      ]
     },
     "metadata": {},
     "output_type": "display_data"
    }
   ],
   "source": [
    "a = [1, 2, 3]\n",
    "b = [1, [2, 3]]\n",
    "c = []\n",
    "d = [1, 2, 3][1:]\n",
    "\n",
    "# Put your predictions in the list below. Lengths should contain 4 numbers, the\n",
    "# first being the length of a, the second being the length of b and so on.\n",
    "lengths = [3 , 2 , 0 , 2 ]\n",
    "\n",
    "# Check your answer\n",
    "q4.check()"
   ]
  },
  {
   "cell_type": "code",
   "execution_count": 9,
   "id": "db153ff4",
   "metadata": {
    "execution": {
     "iopub.execute_input": "2023-02-20T20:20:19.912323Z",
     "iopub.status.busy": "2023-02-20T20:20:19.911642Z",
     "iopub.status.idle": "2023-02-20T20:20:19.916273Z",
     "shell.execute_reply": "2023-02-20T20:20:19.915326Z"
    },
    "papermill": {
     "duration": 0.014002,
     "end_time": "2023-02-20T20:20:19.918412",
     "exception": false,
     "start_time": "2023-02-20T20:20:19.904410",
     "status": "completed"
    },
    "tags": []
   },
   "outputs": [],
   "source": [
    "# line below provides some explanation\n",
    "#q4.solution()"
   ]
  },
  {
   "cell_type": "markdown",
   "id": "0045dae8",
   "metadata": {
    "papermill": {
     "duration": 0.005747,
     "end_time": "2023-02-20T20:20:19.930174",
     "exception": false,
     "start_time": "2023-02-20T20:20:19.924427",
     "status": "completed"
    },
    "tags": []
   },
   "source": [
    "# 5. <span title=\"A bit spicy\" style=\"color: darkgreen \">🌶️</span>\n",
    "\n",
    "We're using lists to record people who attended our party and what order they arrived in. For example, the following list represents a party with 7 guests, in which Adela showed up first and Ford was the last to arrive:\n",
    "\n",
    "    party_attendees = ['Adela', 'Fleda', 'Owen', 'May', 'Mona', 'Gilbert', 'Ford']\n",
    "\n",
    "A guest is considered 'fashionably late' if they arrived after at least half of the party's guests. However, they must not be the very last guest (that's taking it too far). In the above example, Mona and Gilbert are the only guests who were fashionably late.\n",
    "\n",
    "Complete the function below which takes a list of party attendees as well as a person, and tells us whether that person is fashionably late."
   ]
  },
  {
   "cell_type": "code",
   "execution_count": 10,
   "id": "9fff93d9",
   "metadata": {
    "execution": {
     "iopub.execute_input": "2023-02-20T20:20:19.944107Z",
     "iopub.status.busy": "2023-02-20T20:20:19.943497Z",
     "iopub.status.idle": "2023-02-20T20:20:19.951627Z",
     "shell.execute_reply": "2023-02-20T20:20:19.950557Z"
    },
    "papermill": {
     "duration": 0.017751,
     "end_time": "2023-02-20T20:20:19.953912",
     "exception": false,
     "start_time": "2023-02-20T20:20:19.936161",
     "status": "completed"
    },
    "tags": []
   },
   "outputs": [
    {
     "data": {
      "application/javascript": [
       "parent.postMessage({\"jupyterEvent\": \"custom.exercise_interaction\", \"data\": {\"outcomeType\": 1, \"valueTowardsCompletion\": 0.2, \"interactionType\": 1, \"questionType\": 2, \"questionId\": \"5_FashionablyLate\", \"learnToolsVersion\": \"0.3.4\", \"failureMessage\": \"\", \"exceptionClass\": \"\", \"trace\": \"\"}}, \"*\")"
      ],
      "text/plain": [
       "<IPython.core.display.Javascript object>"
      ]
     },
     "metadata": {},
     "output_type": "display_data"
    },
    {
     "data": {
      "text/markdown": [
       "<span style=\"color:#33cc33\">Correct</span>"
      ],
      "text/plain": [
       "Correct"
      ]
     },
     "metadata": {},
     "output_type": "display_data"
    }
   ],
   "source": [
    "def fashionably_late(arrivals, name):\n",
    "    \"\"\"Given an ordered list of arrivals to the party and a name, return whether the guest with that\n",
    "    name was fashionably late.\n",
    "    \"\"\"\n",
    "    late = arrivals.index(name)\n",
    "    return late >= len(arrivals) / 2 and late!= len(arrivals) - 1\n",
    "    pass\n",
    "\n",
    "# Check your answer\n",
    "q5.check()"
   ]
  },
  {
   "cell_type": "code",
   "execution_count": 11,
   "id": "62e08366",
   "metadata": {
    "execution": {
     "iopub.execute_input": "2023-02-20T20:20:19.968175Z",
     "iopub.status.busy": "2023-02-20T20:20:19.967553Z",
     "iopub.status.idle": "2023-02-20T20:20:19.971748Z",
     "shell.execute_reply": "2023-02-20T20:20:19.970980Z"
    },
    "papermill": {
     "duration": 0.013858,
     "end_time": "2023-02-20T20:20:19.973863",
     "exception": false,
     "start_time": "2023-02-20T20:20:19.960005",
     "status": "completed"
    },
    "tags": []
   },
   "outputs": [],
   "source": [
    "#q5.hint()\n",
    "#q5.solution()"
   ]
  },
  {
   "cell_type": "markdown",
   "id": "f45704e6",
   "metadata": {
    "papermill": {
     "duration": 0.006063,
     "end_time": "2023-02-20T20:20:19.986660",
     "exception": false,
     "start_time": "2023-02-20T20:20:19.980597",
     "status": "completed"
    },
    "tags": []
   },
   "source": [
    "# Keep Going\n",
    "\n",
    "That's it for lists and tuples! Now you have the baseline knowledge to **[learn about loops](https://www.kaggle.com/colinmorris/loops-and-list-comprehensions)**, which is where lists and tuples get really interesting. "
   ]
  },
  {
   "cell_type": "markdown",
   "id": "4470608e",
   "metadata": {
    "papermill": {
     "duration": 0.005838,
     "end_time": "2023-02-20T20:20:19.998680",
     "exception": false,
     "start_time": "2023-02-20T20:20:19.992842",
     "status": "completed"
    },
    "tags": []
   },
   "source": [
    "---\n",
    "\n",
    "\n",
    "\n",
    "\n",
    "*Have questions or comments? Visit the [course discussion forum](https://www.kaggle.com/learn/python/discussion) to chat with other learners.*"
   ]
  }
 ],
 "metadata": {
  "kernelspec": {
   "display_name": "Python 3",
   "language": "python",
   "name": "python3"
  },
  "language_info": {
   "codemirror_mode": {
    "name": "ipython",
    "version": 3
   },
   "file_extension": ".py",
   "mimetype": "text/x-python",
   "name": "python",
   "nbconvert_exporter": "python",
   "pygments_lexer": "ipython3",
   "version": "3.7.12"
  },
  "papermill": {
   "default_parameters": {},
   "duration": 9.530054,
   "end_time": "2023-02-20T20:20:20.626664",
   "environment_variables": {},
   "exception": null,
   "input_path": "__notebook__.ipynb",
   "output_path": "__notebook__.ipynb",
   "parameters": {},
   "start_time": "2023-02-20T20:20:11.096610",
   "version": "2.3.4"
  }
 },
 "nbformat": 4,
 "nbformat_minor": 5
}
