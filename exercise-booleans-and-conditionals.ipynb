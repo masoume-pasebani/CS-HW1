{
 "cells": [
  {
   "cell_type": "markdown",
   "id": "4c9e826d",
   "metadata": {
    "papermill": {
     "duration": 0.012382,
     "end_time": "2023-02-20T18:54:55.577737",
     "exception": false,
     "start_time": "2023-02-20T18:54:55.565355",
     "status": "completed"
    },
    "tags": []
   },
   "source": [
    "**This notebook is an exercise in the [Python](https://www.kaggle.com/learn/python) course.  You can reference the tutorial at [this link](https://www.kaggle.com/colinmorris/booleans-and-conditionals).**\n",
    "\n",
    "---\n"
   ]
  },
  {
   "cell_type": "markdown",
   "id": "13573070",
   "metadata": {
    "papermill": {
     "duration": 0.008175,
     "end_time": "2023-02-20T18:54:55.594559",
     "exception": false,
     "start_time": "2023-02-20T18:54:55.586384",
     "status": "completed"
    },
    "tags": []
   },
   "source": [
    "In this exercise, you'll put to work what you have learned about booleans and conditionals.\n",
    "\n",
    "To get started, **run the setup code below** before writing your own code (and if you leave this notebook and come back later, don't forget to run the setup code again)."
   ]
  },
  {
   "cell_type": "code",
   "execution_count": 1,
   "id": "6b332e25",
   "metadata": {
    "execution": {
     "iopub.execute_input": "2023-02-20T18:54:55.614087Z",
     "iopub.status.busy": "2023-02-20T18:54:55.613036Z",
     "iopub.status.idle": "2023-02-20T18:54:55.667897Z",
     "shell.execute_reply": "2023-02-20T18:54:55.666630Z"
    },
    "papermill": {
     "duration": 0.068109,
     "end_time": "2023-02-20T18:54:55.670961",
     "exception": false,
     "start_time": "2023-02-20T18:54:55.602852",
     "status": "completed"
    },
    "tags": []
   },
   "outputs": [
    {
     "name": "stdout",
     "output_type": "stream",
     "text": [
      "Setup complete.\n"
     ]
    }
   ],
   "source": [
    "from learntools.core import binder; binder.bind(globals())\n",
    "from learntools.python.ex3 import *\n",
    "print('Setup complete.')"
   ]
  },
  {
   "cell_type": "markdown",
   "id": "87447d35",
   "metadata": {
    "papermill": {
     "duration": 0.008063,
     "end_time": "2023-02-20T18:54:55.687684",
     "exception": false,
     "start_time": "2023-02-20T18:54:55.679621",
     "status": "completed"
    },
    "tags": []
   },
   "source": [
    "# 1.\n",
    "\n",
    "Many programming languages have [`sign`](https://en.wikipedia.org/wiki/Sign_function) available as a built-in function. Python doesn't, but we can define our own!\n",
    "\n",
    "In the cell below, define a function called `sign` which takes a numerical argument and returns -1 if it's negative, 1 if it's positive, and 0 if it's 0."
   ]
  },
  {
   "cell_type": "code",
   "execution_count": 2,
   "id": "995f1f4f",
   "metadata": {
    "execution": {
     "iopub.execute_input": "2023-02-20T18:54:55.706741Z",
     "iopub.status.busy": "2023-02-20T18:54:55.706044Z",
     "iopub.status.idle": "2023-02-20T18:54:55.718159Z",
     "shell.execute_reply": "2023-02-20T18:54:55.716914Z"
    },
    "papermill": {
     "duration": 0.02419,
     "end_time": "2023-02-20T18:54:55.720335",
     "exception": false,
     "start_time": "2023-02-20T18:54:55.696145",
     "status": "completed"
    },
    "tags": []
   },
   "outputs": [
    {
     "data": {
      "application/javascript": [
       "parent.postMessage({\"jupyterEvent\": \"custom.exercise_interaction\", \"data\": {\"outcomeType\": 1, \"valueTowardsCompletion\": 0.2, \"interactionType\": 1, \"questionType\": 2, \"questionId\": \"1_SignFunctionProblem\", \"learnToolsVersion\": \"0.3.4\", \"failureMessage\": \"\", \"exceptionClass\": \"\", \"trace\": \"\"}}, \"*\")"
      ],
      "text/plain": [
       "<IPython.core.display.Javascript object>"
      ]
     },
     "metadata": {},
     "output_type": "display_data"
    },
    {
     "data": {
      "text/markdown": [
       "<span style=\"color:#33cc33\">Correct</span>"
      ],
      "text/plain": [
       "Correct"
      ]
     },
     "metadata": {},
     "output_type": "display_data"
    }
   ],
   "source": [
    "# Your code goes here. Define a function called 'sign'\n",
    "\n",
    "# Check your answer\n",
    "def sign(num):\n",
    "    if num==0:\n",
    "        return 0\n",
    "    elif num > 0:\n",
    "        return 1\n",
    "    elif num < 0:\n",
    "        return -1\n",
    "q1.check()"
   ]
  },
  {
   "cell_type": "code",
   "execution_count": 3,
   "id": "183c204d",
   "metadata": {
    "execution": {
     "iopub.execute_input": "2023-02-20T18:54:55.741544Z",
     "iopub.status.busy": "2023-02-20T18:54:55.740731Z",
     "iopub.status.idle": "2023-02-20T18:54:55.746414Z",
     "shell.execute_reply": "2023-02-20T18:54:55.745266Z"
    },
    "papermill": {
     "duration": 0.019714,
     "end_time": "2023-02-20T18:54:55.748902",
     "exception": false,
     "start_time": "2023-02-20T18:54:55.729188",
     "status": "completed"
    },
    "tags": []
   },
   "outputs": [],
   "source": [
    "#q1.solution()"
   ]
  },
  {
   "cell_type": "markdown",
   "id": "55fd63b4",
   "metadata": {
    "papermill": {
     "duration": 0.008604,
     "end_time": "2023-02-20T18:54:55.766544",
     "exception": false,
     "start_time": "2023-02-20T18:54:55.757940",
     "status": "completed"
    },
    "tags": []
   },
   "source": [
    "# 2.\n",
    "\n",
    "We've decided to add \"logging\" to our `to_smash` function from the previous exercise."
   ]
  },
  {
   "cell_type": "code",
   "execution_count": 4,
   "id": "2f042f73",
   "metadata": {
    "execution": {
     "iopub.execute_input": "2023-02-20T18:54:55.786663Z",
     "iopub.status.busy": "2023-02-20T18:54:55.785980Z",
     "iopub.status.idle": "2023-02-20T18:54:55.802113Z",
     "shell.execute_reply": "2023-02-20T18:54:55.800375Z"
    },
    "papermill": {
     "duration": 0.029613,
     "end_time": "2023-02-20T18:54:55.805144",
     "exception": false,
     "start_time": "2023-02-20T18:54:55.775531",
     "status": "completed"
    },
    "tags": []
   },
   "outputs": [
    {
     "name": "stdout",
     "output_type": "stream",
     "text": [
      "Splitting 91 candies\n"
     ]
    },
    {
     "data": {
      "text/plain": [
       "1"
      ]
     },
     "execution_count": 4,
     "metadata": {},
     "output_type": "execute_result"
    }
   ],
   "source": [
    "def to_smash(total_candies):\n",
    "    \"\"\"Return the number of leftover candies that must be smashed after distributing\n",
    "    the given number of candies evenly between 3 friends.\n",
    "    \n",
    "    >>> to_smash(91)\n",
    "    1\n",
    "    \"\"\"\n",
    "    print(\"Splitting\", total_candies, \"candies\")\n",
    "    return total_candies % 3\n",
    "\n",
    "to_smash(91)"
   ]
  },
  {
   "cell_type": "markdown",
   "id": "3dce95ac",
   "metadata": {
    "papermill": {
     "duration": 0.008541,
     "end_time": "2023-02-20T18:54:55.822989",
     "exception": false,
     "start_time": "2023-02-20T18:54:55.814448",
     "status": "completed"
    },
    "tags": []
   },
   "source": [
    "What happens if we call it with `total_candies = 1`?"
   ]
  },
  {
   "cell_type": "code",
   "execution_count": 5,
   "id": "c004ad53",
   "metadata": {
    "execution": {
     "iopub.execute_input": "2023-02-20T18:54:55.843878Z",
     "iopub.status.busy": "2023-02-20T18:54:55.843131Z",
     "iopub.status.idle": "2023-02-20T18:54:55.849788Z",
     "shell.execute_reply": "2023-02-20T18:54:55.848901Z"
    },
    "papermill": {
     "duration": 0.02057,
     "end_time": "2023-02-20T18:54:55.853214",
     "exception": false,
     "start_time": "2023-02-20T18:54:55.832644",
     "status": "completed"
    },
    "tags": []
   },
   "outputs": [
    {
     "name": "stdout",
     "output_type": "stream",
     "text": [
      "Splitting 1 candies\n"
     ]
    },
    {
     "data": {
      "text/plain": [
       "1"
      ]
     },
     "execution_count": 5,
     "metadata": {},
     "output_type": "execute_result"
    }
   ],
   "source": [
    "to_smash(1)"
   ]
  },
  {
   "cell_type": "markdown",
   "id": "7ab063d4",
   "metadata": {
    "papermill": {
     "duration": 0.008969,
     "end_time": "2023-02-20T18:54:55.871534",
     "exception": false,
     "start_time": "2023-02-20T18:54:55.862565",
     "status": "completed"
    },
    "tags": []
   },
   "source": [
    "That isn't great grammar!\n",
    "\n",
    "Modify the definition in the cell below to correct the grammar of our print statement. (If there's only one candy, we should use the singular \"candy\" instead of the plural \"candies\")"
   ]
  },
  {
   "cell_type": "code",
   "execution_count": 6,
   "id": "799657f3",
   "metadata": {
    "execution": {
     "iopub.execute_input": "2023-02-20T18:54:55.892528Z",
     "iopub.status.busy": "2023-02-20T18:54:55.891407Z",
     "iopub.status.idle": "2023-02-20T18:54:55.900856Z",
     "shell.execute_reply": "2023-02-20T18:54:55.899994Z"
    },
    "papermill": {
     "duration": 0.022189,
     "end_time": "2023-02-20T18:54:55.903057",
     "exception": false,
     "start_time": "2023-02-20T18:54:55.880868",
     "status": "completed"
    },
    "tags": []
   },
   "outputs": [
    {
     "name": "stdout",
     "output_type": "stream",
     "text": [
      "Splitting 91 candies\n",
      "splitting 1 candy\n"
     ]
    },
    {
     "data": {
      "text/plain": [
       "1"
      ]
     },
     "execution_count": 6,
     "metadata": {},
     "output_type": "execute_result"
    }
   ],
   "source": [
    "def to_smash(total_candies):\n",
    "    \"\"\"Return the number of leftover candies that must be smashed after distributing\n",
    "    the given number of candies evenly between 3 friends.\n",
    "    \n",
    "    >>> to_smash(91)\n",
    "    1\n",
    "    \"\"\"\n",
    "    if total_candies == 1:\n",
    "        print(\"splitting\", total_candies, \"candy\")\n",
    "    else:\n",
    "        print(\"Splitting\", total_candies, \"candies\")\n",
    "    return total_candies % 3\n",
    "\n",
    "to_smash(91)\n",
    "to_smash(1)"
   ]
  },
  {
   "cell_type": "markdown",
   "id": "c051829f",
   "metadata": {
    "papermill": {
     "duration": 0.008887,
     "end_time": "2023-02-20T18:54:55.921265",
     "exception": false,
     "start_time": "2023-02-20T18:54:55.912378",
     "status": "completed"
    },
    "tags": []
   },
   "source": [
    "To get credit for completing this problem, and to see the official answer, run the code cell below."
   ]
  },
  {
   "cell_type": "code",
   "execution_count": 7,
   "id": "2c174899",
   "metadata": {
    "execution": {
     "iopub.execute_input": "2023-02-20T18:54:55.941882Z",
     "iopub.status.busy": "2023-02-20T18:54:55.941174Z",
     "iopub.status.idle": "2023-02-20T18:54:55.946542Z",
     "shell.execute_reply": "2023-02-20T18:54:55.945369Z"
    },
    "papermill": {
     "duration": 0.018271,
     "end_time": "2023-02-20T18:54:55.948953",
     "exception": false,
     "start_time": "2023-02-20T18:54:55.930682",
     "status": "completed"
    },
    "tags": []
   },
   "outputs": [],
   "source": [
    "# Check your answer (Run this code cell to receive credit!)\n",
    "#q2.solution()"
   ]
  },
  {
   "cell_type": "markdown",
   "id": "c65684a2",
   "metadata": {
    "papermill": {
     "duration": 0.008924,
     "end_time": "2023-02-20T18:54:55.967758",
     "exception": false,
     "start_time": "2023-02-20T18:54:55.958834",
     "status": "completed"
    },
    "tags": []
   },
   "source": [
    "# 3. <span title=\"A bit spicy\" style=\"color: darkgreen \">🌶️</span>\n",
    "\n",
    "In the tutorial, we talked about deciding whether we're prepared for the weather. I said that I'm safe from today's weather if...\n",
    "- I have an umbrella...\n",
    "- or if the rain isn't too heavy and I have a hood...\n",
    "- otherwise, I'm still fine unless it's raining *and* it's a workday\n",
    "\n",
    "The function below uses our first attempt at turning this logic into a Python expression. I claimed that there was a bug in that code. Can you find it?\n",
    "\n",
    "To prove that `prepared_for_weather` is buggy, come up with a set of inputs where either:\n",
    "- the function returns `False` (but should have returned `True`), or\n",
    "- the function returned `True` (but should have returned `False`).\n",
    "\n",
    "To get credit for completing this question, your code should return a <font color='#33cc33'>Correct</font> result."
   ]
  },
  {
   "cell_type": "code",
   "execution_count": 8,
   "id": "40a9cb22",
   "metadata": {
    "execution": {
     "iopub.execute_input": "2023-02-20T18:54:55.988127Z",
     "iopub.status.busy": "2023-02-20T18:54:55.987731Z",
     "iopub.status.idle": "2023-02-20T18:54:56.001113Z",
     "shell.execute_reply": "2023-02-20T18:54:55.999869Z"
    },
    "papermill": {
     "duration": 0.02646,
     "end_time": "2023-02-20T18:54:56.003437",
     "exception": false,
     "start_time": "2023-02-20T18:54:55.976977",
     "status": "completed"
    },
    "tags": []
   },
   "outputs": [
    {
     "name": "stdout",
     "output_type": "stream",
     "text": [
      "False\n"
     ]
    },
    {
     "data": {
      "application/javascript": [
       "parent.postMessage({\"jupyterEvent\": \"custom.exercise_interaction\", \"data\": {\"outcomeType\": 1, \"valueTowardsCompletion\": 0.2, \"interactionType\": 1, \"questionType\": 1, \"questionId\": \"3_WeatherDebug\", \"learnToolsVersion\": \"0.3.4\", \"failureMessage\": \"\", \"exceptionClass\": \"\", \"trace\": \"\"}}, \"*\")"
      ],
      "text/plain": [
       "<IPython.core.display.Javascript object>"
      ]
     },
     "metadata": {},
     "output_type": "display_data"
    },
    {
     "data": {
      "text/markdown": [
       "<span style=\"color:#33cc33\">Correct:</span> \n",
       "\n",
       "One example of a failing test case is:\n",
       "\n",
       "```python\n",
       "have_umbrella = False\n",
       "rain_level = 0.0\n",
       "have_hood = False\n",
       "is_workday = False\n",
       "```\n",
       "\n",
       "Clearly we're prepared for the weather in this case. It's not raining. Not only that, it's not a workday, so we don't even need to leave the house! But our function will return False on these inputs.\n",
       "\n",
       "The key problem is that Python implictly parenthesizes the last part as:\n",
       "\n",
       "```python\n",
       "(not (rain_level > 0)) and is_workday\n",
       "```\n",
       "\n",
       "Whereas what we were trying to express would look more like:\n",
       "\n",
       "```python\n",
       "not (rain_level > 0 and is_workday)\n",
       "```\n"
      ],
      "text/plain": [
       "Correct: \n",
       "\n",
       "One example of a failing test case is:\n",
       "\n",
       "```python\n",
       "have_umbrella = False\n",
       "rain_level = 0.0\n",
       "have_hood = False\n",
       "is_workday = False\n",
       "```\n",
       "\n",
       "Clearly we're prepared for the weather in this case. It's not raining. Not only that, it's not a workday, so we don't even need to leave the house! But our function will return False on these inputs.\n",
       "\n",
       "The key problem is that Python implictly parenthesizes the last part as:\n",
       "\n",
       "```python\n",
       "(not (rain_level > 0)) and is_workday\n",
       "```\n",
       "\n",
       "Whereas what we were trying to express would look more like:\n",
       "\n",
       "```python\n",
       "not (rain_level > 0 and is_workday)\n",
       "```"
      ]
     },
     "metadata": {},
     "output_type": "display_data"
    }
   ],
   "source": [
    "def prepared_for_weather(have_umbrella, rain_level, have_hood, is_workday):\n",
    "    # Don't change this code. Our goal is just to find the bug, not fix it!\n",
    "    return have_umbrella or rain_level < 5 and have_hood or not rain_level > 0 and is_workday\n",
    "\n",
    "# Change the values of these inputs so they represent a case where prepared_for_weather\n",
    "# returns the wrong answer.\n",
    "have_umbrella = False\n",
    "rain_level = 0.0\n",
    "have_hood = False\n",
    "is_workday = False\n",
    "\n",
    "# Check what the function returns given the current values of the variables above\n",
    "actual = prepared_for_weather(have_umbrella, rain_level, have_hood, is_workday)\n",
    "print(actual)\n",
    "\n",
    "# Check your answer\n",
    "q3.check()"
   ]
  },
  {
   "cell_type": "code",
   "execution_count": 9,
   "id": "834597c4",
   "metadata": {
    "execution": {
     "iopub.execute_input": "2023-02-20T18:54:56.025263Z",
     "iopub.status.busy": "2023-02-20T18:54:56.024395Z",
     "iopub.status.idle": "2023-02-20T18:54:56.029351Z",
     "shell.execute_reply": "2023-02-20T18:54:56.028222Z"
    },
    "papermill": {
     "duration": 0.018289,
     "end_time": "2023-02-20T18:54:56.031606",
     "exception": false,
     "start_time": "2023-02-20T18:54:56.013317",
     "status": "completed"
    },
    "tags": []
   },
   "outputs": [],
   "source": [
    "#q3.hint()\n",
    "#q3.solution()"
   ]
  },
  {
   "cell_type": "markdown",
   "id": "cf241c21",
   "metadata": {
    "papermill": {
     "duration": 0.009356,
     "end_time": "2023-02-20T18:54:56.050774",
     "exception": false,
     "start_time": "2023-02-20T18:54:56.041418",
     "status": "completed"
    },
    "tags": []
   },
   "source": [
    "# 4.\n",
    "\n",
    "The function `is_negative` below is implemented correctly - it returns True if the given number is negative and False otherwise.\n",
    "\n",
    "However, it's more verbose than it needs to be. We can actually reduce the number of lines of code in this function by *75%* while keeping the same behaviour. \n",
    "\n",
    "See if you can come up with an equivalent body that uses just **one line** of code, and put it in the function `concise_is_negative`. (HINT: you don't even need Python's ternary syntax)"
   ]
  },
  {
   "cell_type": "code",
   "execution_count": 10,
   "id": "08d20c0e",
   "metadata": {
    "execution": {
     "iopub.execute_input": "2023-02-20T18:54:56.071844Z",
     "iopub.status.busy": "2023-02-20T18:54:56.071380Z",
     "iopub.status.idle": "2023-02-20T18:54:56.081712Z",
     "shell.execute_reply": "2023-02-20T18:54:56.080379Z"
    },
    "papermill": {
     "duration": 0.023462,
     "end_time": "2023-02-20T18:54:56.083903",
     "exception": false,
     "start_time": "2023-02-20T18:54:56.060441",
     "status": "completed"
    },
    "tags": []
   },
   "outputs": [
    {
     "data": {
      "application/javascript": [
       "parent.postMessage({\"jupyterEvent\": \"custom.exercise_interaction\", \"data\": {\"outcomeType\": 4, \"interactionType\": 1, \"questionType\": 2, \"questionId\": \"4_ConciseIsNegative\", \"learnToolsVersion\": \"0.3.4\", \"valueTowardsCompletion\": 0.0, \"failureMessage\": \"\", \"exceptionClass\": \"\", \"trace\": \"\"}}, \"*\")"
      ],
      "text/plain": [
       "<IPython.core.display.Javascript object>"
      ]
     },
     "metadata": {},
     "output_type": "display_data"
    },
    {
     "data": {
      "text/markdown": [
       "<span style=\"color:#ccaa33\">Check:</span> When you've updated the starter code, `check()` will tell you whether your code is correct. "
      ],
      "text/plain": [
       "Check: When you've updated the starter code, `check()` will tell you whether your code is correct. "
      ]
     },
     "metadata": {},
     "output_type": "display_data"
    }
   ],
   "source": [
    "def is_negative(number):\n",
    "    if number < 0:\n",
    "        return True\n",
    "    else:\n",
    "        return False\n",
    "\n",
    "def concise_is_negative(number):\n",
    "    pass # Your code goes here (try to keep it to one line!)\n",
    "\n",
    "# Check your answer\n",
    "q4.check()"
   ]
  },
  {
   "cell_type": "code",
   "execution_count": 11,
   "id": "07b45991",
   "metadata": {
    "execution": {
     "iopub.execute_input": "2023-02-20T18:54:56.106235Z",
     "iopub.status.busy": "2023-02-20T18:54:56.105489Z",
     "iopub.status.idle": "2023-02-20T18:54:56.109352Z",
     "shell.execute_reply": "2023-02-20T18:54:56.108506Z"
    },
    "papermill": {
     "duration": 0.017818,
     "end_time": "2023-02-20T18:54:56.111790",
     "exception": false,
     "start_time": "2023-02-20T18:54:56.093972",
     "status": "completed"
    },
    "tags": []
   },
   "outputs": [],
   "source": [
    "#q4.hint()\n",
    "#q4.solution()"
   ]
  },
  {
   "cell_type": "markdown",
   "id": "8846420b",
   "metadata": {
    "papermill": {
     "duration": 0.009564,
     "end_time": "2023-02-20T18:54:56.132089",
     "exception": false,
     "start_time": "2023-02-20T18:54:56.122525",
     "status": "completed"
    },
    "tags": []
   },
   "source": [
    "# 5a.\n",
    "\n",
    "The boolean variables `ketchup`, `mustard` and `onion` represent whether a customer wants a particular topping on their hot dog. We want to implement a number of boolean functions that correspond to some yes-or-no questions about the customer's order. For example:"
   ]
  },
  {
   "cell_type": "code",
   "execution_count": 12,
   "id": "30f2d349",
   "metadata": {
    "execution": {
     "iopub.execute_input": "2023-02-20T18:54:56.154628Z",
     "iopub.status.busy": "2023-02-20T18:54:56.153868Z",
     "iopub.status.idle": "2023-02-20T18:54:56.158361Z",
     "shell.execute_reply": "2023-02-20T18:54:56.157535Z"
    },
    "papermill": {
     "duration": 0.01796,
     "end_time": "2023-02-20T18:54:56.160474",
     "exception": false,
     "start_time": "2023-02-20T18:54:56.142514",
     "status": "completed"
    },
    "tags": []
   },
   "outputs": [],
   "source": [
    "def onionless(ketchup, mustard, onion):\n",
    "    \"\"\"Return whether the customer doesn't want onions.\n",
    "    \"\"\"\n",
    "    return not onion"
   ]
  },
  {
   "cell_type": "code",
   "execution_count": 13,
   "id": "38e61921",
   "metadata": {
    "execution": {
     "iopub.execute_input": "2023-02-20T18:54:56.182699Z",
     "iopub.status.busy": "2023-02-20T18:54:56.181973Z",
     "iopub.status.idle": "2023-02-20T18:54:56.191148Z",
     "shell.execute_reply": "2023-02-20T18:54:56.189890Z"
    },
    "papermill": {
     "duration": 0.022943,
     "end_time": "2023-02-20T18:54:56.193589",
     "exception": false,
     "start_time": "2023-02-20T18:54:56.170646",
     "status": "completed"
    },
    "tags": []
   },
   "outputs": [
    {
     "data": {
      "application/javascript": [
       "parent.postMessage({\"jupyterEvent\": \"custom.exercise_interaction\", \"data\": {\"outcomeType\": 4, \"interactionType\": 1, \"questionType\": 2, \"questionId\": \"5.1_AllToppings\", \"learnToolsVersion\": \"0.3.4\", \"valueTowardsCompletion\": 0.0, \"failureMessage\": \"\", \"exceptionClass\": \"\", \"trace\": \"\"}}, \"*\")"
      ],
      "text/plain": [
       "<IPython.core.display.Javascript object>"
      ]
     },
     "metadata": {},
     "output_type": "display_data"
    },
    {
     "data": {
      "text/markdown": [
       "<span style=\"color:#ccaa33\">Check:</span> When you've updated the starter code, `check()` will tell you whether your code is correct. "
      ],
      "text/plain": [
       "Check: When you've updated the starter code, `check()` will tell you whether your code is correct. "
      ]
     },
     "metadata": {},
     "output_type": "display_data"
    }
   ],
   "source": [
    "def wants_all_toppings(ketchup, mustard, onion):\n",
    "    \"\"\"Return whether the customer wants \"the works\" (all 3 toppings)\n",
    "    \"\"\"\n",
    "    pass\n",
    "\n",
    "# Check your answer\n",
    "q5.a.check()"
   ]
  },
  {
   "cell_type": "code",
   "execution_count": 14,
   "id": "a84d3681",
   "metadata": {
    "execution": {
     "iopub.execute_input": "2023-02-20T18:54:56.216028Z",
     "iopub.status.busy": "2023-02-20T18:54:56.215606Z",
     "iopub.status.idle": "2023-02-20T18:54:56.220353Z",
     "shell.execute_reply": "2023-02-20T18:54:56.218977Z"
    },
    "papermill": {
     "duration": 0.018788,
     "end_time": "2023-02-20T18:54:56.222779",
     "exception": false,
     "start_time": "2023-02-20T18:54:56.203991",
     "status": "completed"
    },
    "tags": []
   },
   "outputs": [],
   "source": [
    "#q5.a.hint()\n",
    "#q5.a.solution()"
   ]
  },
  {
   "cell_type": "markdown",
   "id": "f3bc0905",
   "metadata": {
    "papermill": {
     "duration": 0.009956,
     "end_time": "2023-02-20T18:54:56.243312",
     "exception": false,
     "start_time": "2023-02-20T18:54:56.233356",
     "status": "completed"
    },
    "tags": []
   },
   "source": [
    "# 5b.\n",
    "\n",
    "For the next function, fill in the body to match the English description in the docstring. "
   ]
  },
  {
   "cell_type": "code",
   "execution_count": 15,
   "id": "6c9986dd",
   "metadata": {
    "execution": {
     "iopub.execute_input": "2023-02-20T18:54:56.266285Z",
     "iopub.status.busy": "2023-02-20T18:54:56.265891Z",
     "iopub.status.idle": "2023-02-20T18:54:56.274822Z",
     "shell.execute_reply": "2023-02-20T18:54:56.273708Z"
    },
    "papermill": {
     "duration": 0.023168,
     "end_time": "2023-02-20T18:54:56.277256",
     "exception": false,
     "start_time": "2023-02-20T18:54:56.254088",
     "status": "completed"
    },
    "tags": []
   },
   "outputs": [
    {
     "data": {
      "application/javascript": [
       "parent.postMessage({\"jupyterEvent\": \"custom.exercise_interaction\", \"data\": {\"outcomeType\": 4, \"interactionType\": 1, \"questionType\": 2, \"questionId\": \"5.2_PlainDog\", \"learnToolsVersion\": \"0.3.4\", \"valueTowardsCompletion\": 0.0, \"failureMessage\": \"\", \"exceptionClass\": \"\", \"trace\": \"\"}}, \"*\")"
      ],
      "text/plain": [
       "<IPython.core.display.Javascript object>"
      ]
     },
     "metadata": {},
     "output_type": "display_data"
    },
    {
     "data": {
      "text/markdown": [
       "<span style=\"color:#ccaa33\">Check:</span> When you've updated the starter code, `check()` will tell you whether your code is correct. "
      ],
      "text/plain": [
       "Check: When you've updated the starter code, `check()` will tell you whether your code is correct. "
      ]
     },
     "metadata": {},
     "output_type": "display_data"
    }
   ],
   "source": [
    "def wants_plain_hotdog(ketchup, mustard, onion):\n",
    "    \"\"\"Return whether the customer wants a plain hot dog with no toppings.\n",
    "    \"\"\"\n",
    "    pass\n",
    "\n",
    "# Check your answer\n",
    "q5.b.check()"
   ]
  },
  {
   "cell_type": "code",
   "execution_count": 16,
   "id": "cef369e4",
   "metadata": {
    "execution": {
     "iopub.execute_input": "2023-02-20T18:54:56.300952Z",
     "iopub.status.busy": "2023-02-20T18:54:56.299967Z",
     "iopub.status.idle": "2023-02-20T18:54:56.304721Z",
     "shell.execute_reply": "2023-02-20T18:54:56.303908Z"
    },
    "papermill": {
     "duration": 0.018932,
     "end_time": "2023-02-20T18:54:56.306874",
     "exception": false,
     "start_time": "2023-02-20T18:54:56.287942",
     "status": "completed"
    },
    "tags": []
   },
   "outputs": [],
   "source": [
    "#q5.b.hint()\n",
    "#q5.b.solution()"
   ]
  },
  {
   "cell_type": "markdown",
   "id": "125a9702",
   "metadata": {
    "papermill": {
     "duration": 0.010392,
     "end_time": "2023-02-20T18:54:56.327978",
     "exception": false,
     "start_time": "2023-02-20T18:54:56.317586",
     "status": "completed"
    },
    "tags": []
   },
   "source": [
    "# 5c.\n",
    "\n",
    "You know what to do: for the next function, fill in the body to match the English description in the docstring."
   ]
  },
  {
   "cell_type": "code",
   "execution_count": 17,
   "id": "6f7f8631",
   "metadata": {
    "execution": {
     "iopub.execute_input": "2023-02-20T18:54:56.351714Z",
     "iopub.status.busy": "2023-02-20T18:54:56.350979Z",
     "iopub.status.idle": "2023-02-20T18:54:56.360095Z",
     "shell.execute_reply": "2023-02-20T18:54:56.358993Z"
    },
    "papermill": {
     "duration": 0.02379,
     "end_time": "2023-02-20T18:54:56.362737",
     "exception": false,
     "start_time": "2023-02-20T18:54:56.338947",
     "status": "completed"
    },
    "tags": []
   },
   "outputs": [
    {
     "data": {
      "application/javascript": [
       "parent.postMessage({\"jupyterEvent\": \"custom.exercise_interaction\", \"data\": {\"outcomeType\": 4, \"interactionType\": 1, \"questionType\": 2, \"questionId\": \"5.3_OneSauce\", \"learnToolsVersion\": \"0.3.4\", \"valueTowardsCompletion\": 0.0, \"failureMessage\": \"\", \"exceptionClass\": \"\", \"trace\": \"\"}}, \"*\")"
      ],
      "text/plain": [
       "<IPython.core.display.Javascript object>"
      ]
     },
     "metadata": {},
     "output_type": "display_data"
    },
    {
     "data": {
      "text/markdown": [
       "<span style=\"color:#ccaa33\">Check:</span> When you've updated the starter code, `check()` will tell you whether your code is correct. "
      ],
      "text/plain": [
       "Check: When you've updated the starter code, `check()` will tell you whether your code is correct. "
      ]
     },
     "metadata": {},
     "output_type": "display_data"
    }
   ],
   "source": [
    "def exactly_one_sauce(ketchup, mustard, onion):\n",
    "    \"\"\"Return whether the customer wants either ketchup or mustard, but not both.\n",
    "    (You may be familiar with this operation under the name \"exclusive or\")\n",
    "    \"\"\"\n",
    "    pass\n",
    "\n",
    "# Check your answer\n",
    "q5.c.check()"
   ]
  },
  {
   "cell_type": "code",
   "execution_count": 18,
   "id": "ad72292c",
   "metadata": {
    "execution": {
     "iopub.execute_input": "2023-02-20T18:54:56.387477Z",
     "iopub.status.busy": "2023-02-20T18:54:56.386603Z",
     "iopub.status.idle": "2023-02-20T18:54:56.391755Z",
     "shell.execute_reply": "2023-02-20T18:54:56.390545Z"
    },
    "papermill": {
     "duration": 0.020355,
     "end_time": "2023-02-20T18:54:56.394496",
     "exception": false,
     "start_time": "2023-02-20T18:54:56.374141",
     "status": "completed"
    },
    "tags": []
   },
   "outputs": [],
   "source": [
    "#q5.c.hint()\n",
    "#q5.c.solution()"
   ]
  },
  {
   "cell_type": "markdown",
   "id": "a809dcb4",
   "metadata": {
    "papermill": {
     "duration": 0.011578,
     "end_time": "2023-02-20T18:54:56.417390",
     "exception": false,
     "start_time": "2023-02-20T18:54:56.405812",
     "status": "completed"
    },
    "tags": []
   },
   "source": [
    "# 6. <span title=\"A bit spicy\" style=\"color: darkgreen \">🌶️</span>\n",
    "\n",
    "We’ve seen that calling `bool()` on an integer returns `False` if it’s equal to 0 and `True` otherwise. What happens if we call `int()` on a bool? Try it out in the notebook cell below.\n",
    "\n",
    "Can you take advantage of this to write a succinct function that corresponds to the English sentence \"does the customer want exactly one topping?\"?"
   ]
  },
  {
   "cell_type": "code",
   "execution_count": 19,
   "id": "561a125a",
   "metadata": {
    "execution": {
     "iopub.execute_input": "2023-02-20T18:54:56.441956Z",
     "iopub.status.busy": "2023-02-20T18:54:56.441526Z",
     "iopub.status.idle": "2023-02-20T18:54:56.451811Z",
     "shell.execute_reply": "2023-02-20T18:54:56.450565Z"
    },
    "papermill": {
     "duration": 0.025385,
     "end_time": "2023-02-20T18:54:56.454154",
     "exception": false,
     "start_time": "2023-02-20T18:54:56.428769",
     "status": "completed"
    },
    "tags": []
   },
   "outputs": [
    {
     "data": {
      "application/javascript": [
       "parent.postMessage({\"jupyterEvent\": \"custom.exercise_interaction\", \"data\": {\"outcomeType\": 4, \"interactionType\": 1, \"questionType\": 2, \"questionId\": \"6_OneTopping\", \"learnToolsVersion\": \"0.3.4\", \"valueTowardsCompletion\": 0.0, \"failureMessage\": \"\", \"exceptionClass\": \"\", \"trace\": \"\"}}, \"*\")"
      ],
      "text/plain": [
       "<IPython.core.display.Javascript object>"
      ]
     },
     "metadata": {},
     "output_type": "display_data"
    },
    {
     "data": {
      "text/markdown": [
       "<span style=\"color:#ccaa33\">Check:</span> When you've updated the starter code, `check()` will tell you whether your code is correct. "
      ],
      "text/plain": [
       "Check: When you've updated the starter code, `check()` will tell you whether your code is correct. "
      ]
     },
     "metadata": {},
     "output_type": "display_data"
    }
   ],
   "source": [
    "def exactly_one_topping(ketchup, mustard, onion):\n",
    "    \"\"\"Return whether the customer wants exactly one of the three available toppings\n",
    "    on their hot dog.\n",
    "    \"\"\"\n",
    "    pass\n",
    "\n",
    "# Check your answer\n",
    "q6.check()"
   ]
  },
  {
   "cell_type": "code",
   "execution_count": 20,
   "id": "a65a47fb",
   "metadata": {
    "execution": {
     "iopub.execute_input": "2023-02-20T18:54:56.479605Z",
     "iopub.status.busy": "2023-02-20T18:54:56.479121Z",
     "iopub.status.idle": "2023-02-20T18:54:56.483341Z",
     "shell.execute_reply": "2023-02-20T18:54:56.482428Z"
    },
    "papermill": {
     "duration": 0.020348,
     "end_time": "2023-02-20T18:54:56.485864",
     "exception": false,
     "start_time": "2023-02-20T18:54:56.465516",
     "status": "completed"
    },
    "tags": []
   },
   "outputs": [],
   "source": [
    "#q6.hint()\n",
    "#q6.solution()"
   ]
  },
  {
   "cell_type": "markdown",
   "id": "2f4fce37",
   "metadata": {
    "papermill": {
     "duration": 0.011081,
     "end_time": "2023-02-20T18:54:56.508705",
     "exception": false,
     "start_time": "2023-02-20T18:54:56.497624",
     "status": "completed"
    },
    "tags": []
   },
   "source": [
    "# 7. <span title=\"A bit spicy\" style=\"color: darkgreen \">🌶️</span> (Optional)\n",
    "\n",
    "In this problem we'll be working with a simplified version of [blackjack](https://en.wikipedia.org/wiki/Blackjack) (aka twenty-one). In this version there is one player (who you'll control) and a dealer. Play proceeds as follows:\n",
    "\n",
    "- The player is dealt two face-up cards. The dealer is dealt one face-up card.\n",
    "- The player may ask to be dealt another card ('hit') as many times as they wish. If the sum of their cards exceeds 21, they lose the round immediately.\n",
    "- The dealer then deals additional cards to himself until either:\n",
    "    - the sum of the dealer's cards exceeds 21, in which case the player wins the round\n",
    "    - the sum of the dealer's cards is greater than or equal to 17. If the player's total is greater than the dealer's, the player wins. Otherwise, the dealer wins (even in case of a tie).\n",
    "    \n",
    "When calculating the sum of cards, Jack, Queen, and King count for 10. Aces can count as 1 or 11 (when referring to a player's \"total\" above, we mean the largest total that can be made without exceeding 21. So e.g. A+8 = 19, A+8+8 = 17)\n",
    "\n",
    "For this problem, you'll write a function representing the player's decision-making strategy in this game. We've provided a very unintelligent implementation below:"
   ]
  },
  {
   "cell_type": "code",
   "execution_count": 21,
   "id": "ab10e905",
   "metadata": {
    "execution": {
     "iopub.execute_input": "2023-02-20T18:54:56.534106Z",
     "iopub.status.busy": "2023-02-20T18:54:56.533674Z",
     "iopub.status.idle": "2023-02-20T18:54:56.538897Z",
     "shell.execute_reply": "2023-02-20T18:54:56.538040Z"
    },
    "papermill": {
     "duration": 0.020521,
     "end_time": "2023-02-20T18:54:56.541128",
     "exception": false,
     "start_time": "2023-02-20T18:54:56.520607",
     "status": "completed"
    },
    "tags": []
   },
   "outputs": [],
   "source": [
    "def should_hit(dealer_total, player_total, player_low_aces, player_high_aces):\n",
    "    \"\"\"Return True if the player should hit (request another card) given the current game\n",
    "    state, or False if the player should stay.\n",
    "    When calculating a hand's total value, we count aces as \"high\" (with value 11) if doing so\n",
    "    doesn't bring the total above 21, otherwise we count them as low (with value 1). \n",
    "    For example, if the player's hand is {A, A, A, 7}, we will count it as 11 + 1 + 1 + 7,\n",
    "    and therefore set player_total=20, player_low_aces=2, player_high_aces=1.\n",
    "    \"\"\"\n",
    "    return False"
   ]
  },
  {
   "cell_type": "markdown",
   "id": "88d88ee1",
   "metadata": {
    "papermill": {
     "duration": 0.011842,
     "end_time": "2023-02-20T18:54:56.564587",
     "exception": false,
     "start_time": "2023-02-20T18:54:56.552745",
     "status": "completed"
    },
    "tags": []
   },
   "source": [
    "This very conservative agent *always* sticks with the hand of two cards that they're dealt.\n",
    "\n",
    "We'll be simulating games between your player agent and our own dealer agent by calling your function.\n",
    "\n",
    "Try running the function below to see an example of a simulated game:"
   ]
  },
  {
   "cell_type": "code",
   "execution_count": 22,
   "id": "da3d36eb",
   "metadata": {
    "execution": {
     "iopub.execute_input": "2023-02-20T18:54:56.590005Z",
     "iopub.status.busy": "2023-02-20T18:54:56.589548Z",
     "iopub.status.idle": "2023-02-20T18:54:56.596051Z",
     "shell.execute_reply": "2023-02-20T18:54:56.594822Z"
    },
    "papermill": {
     "duration": 0.022077,
     "end_time": "2023-02-20T18:54:56.598412",
     "exception": false,
     "start_time": "2023-02-20T18:54:56.576335",
     "status": "completed"
    },
    "tags": []
   },
   "outputs": [
    {
     "name": "stdout",
     "output_type": "stream",
     "text": [
      "Player starts with 8 and 9 (total = 17)\n",
      "Dealer starts with K\n",
      "\n",
      "__Player's turn__\n",
      "Player stays\n",
      "\n",
      "__Dealer's turn__\n",
      "Dealer hits and receives 8. (total = 18)\n",
      "Dealer stands.\n",
      "Dealer wins. 18 >= 17\n"
     ]
    }
   ],
   "source": [
    "q7.simulate_one_game()"
   ]
  },
  {
   "cell_type": "markdown",
   "id": "751c657a",
   "metadata": {
    "papermill": {
     "duration": 0.011923,
     "end_time": "2023-02-20T18:54:56.622323",
     "exception": false,
     "start_time": "2023-02-20T18:54:56.610400",
     "status": "completed"
    },
    "tags": []
   },
   "source": [
    "The real test of your agent's mettle is their average win rate over many games. Try calling the function below to simulate 50000 games of blackjack (it may take a couple seconds):"
   ]
  },
  {
   "cell_type": "code",
   "execution_count": 23,
   "id": "15a2ce3b",
   "metadata": {
    "execution": {
     "iopub.execute_input": "2023-02-20T18:54:56.647225Z",
     "iopub.status.busy": "2023-02-20T18:54:56.646793Z",
     "iopub.status.idle": "2023-02-20T18:54:58.329944Z",
     "shell.execute_reply": "2023-02-20T18:54:58.328517Z"
    },
    "papermill": {
     "duration": 1.699077,
     "end_time": "2023-02-20T18:54:58.333059",
     "exception": false,
     "start_time": "2023-02-20T18:54:56.633982",
     "status": "completed"
    },
    "tags": []
   },
   "outputs": [
    {
     "name": "stdout",
     "output_type": "stream",
     "text": [
      "Player won 19077 out of 50000 games (win rate = 38.2%)\n"
     ]
    }
   ],
   "source": [
    "q7.simulate(n_games=50000)"
   ]
  },
  {
   "cell_type": "markdown",
   "id": "f5b0b8e0",
   "metadata": {
    "papermill": {
     "duration": 0.014387,
     "end_time": "2023-02-20T18:54:58.359965",
     "exception": false,
     "start_time": "2023-02-20T18:54:58.345578",
     "status": "completed"
    },
    "tags": []
   },
   "source": [
    "Our dumb agent that completely ignores the game state still manages to win shockingly often!\n",
    "\n",
    "Try adding some more smarts to the `should_hit` function and see how it affects the results."
   ]
  },
  {
   "cell_type": "code",
   "execution_count": 24,
   "id": "47b134b1",
   "metadata": {
    "execution": {
     "iopub.execute_input": "2023-02-20T18:54:58.387660Z",
     "iopub.status.busy": "2023-02-20T18:54:58.387014Z",
     "iopub.status.idle": "2023-02-20T18:55:00.008655Z",
     "shell.execute_reply": "2023-02-20T18:55:00.007429Z"
    },
    "papermill": {
     "duration": 1.6374,
     "end_time": "2023-02-20T18:55:00.011250",
     "exception": false,
     "start_time": "2023-02-20T18:54:58.373850",
     "status": "completed"
    },
    "tags": []
   },
   "outputs": [
    {
     "name": "stdout",
     "output_type": "stream",
     "text": [
      "Player won 18998 out of 50000 games (win rate = 38.0%)\n"
     ]
    }
   ],
   "source": [
    "def should_hit(dealer_total, player_total, player_low_aces, player_high_aces):\n",
    "    \"\"\"Return True if the player should hit (request another card) given the current game\n",
    "    state, or False if the player should stay.\n",
    "    When calculating a hand's total value, we count aces as \"high\" (with value 11) if doing so\n",
    "    doesn't bring the total above 21, otherwise we count them as low (with value 1). \n",
    "    For example, if the player's hand is {A, A, A, 7}, we will count it as 11 + 1 + 1 + 7,\n",
    "    and therefore set player_total=20, player_low_aces=2, player_high_aces=1.\n",
    "    \"\"\"\n",
    "    return False\n",
    "\n",
    "q7.simulate(n_games=50000)"
   ]
  },
  {
   "cell_type": "markdown",
   "id": "61c19717",
   "metadata": {
    "papermill": {
     "duration": 0.011562,
     "end_time": "2023-02-20T18:55:00.034767",
     "exception": false,
     "start_time": "2023-02-20T18:55:00.023205",
     "status": "completed"
    },
    "tags": []
   },
   "source": [
    "# Keep Going\n",
    "\n",
    "Learn about **[lists and tuples](https://www.kaggle.com/colinmorris/lists)** to handle multiple items of data in a systematic way."
   ]
  },
  {
   "cell_type": "markdown",
   "id": "d12b4694",
   "metadata": {
    "papermill": {
     "duration": 0.011452,
     "end_time": "2023-02-20T18:55:00.058064",
     "exception": false,
     "start_time": "2023-02-20T18:55:00.046612",
     "status": "completed"
    },
    "tags": []
   },
   "source": [
    "---\n",
    "\n",
    "\n",
    "\n",
    "\n",
    "*Have questions or comments? Visit the [course discussion forum](https://www.kaggle.com/learn/python/discussion) to chat with other learners.*"
   ]
  }
 ],
 "metadata": {
  "kernelspec": {
   "display_name": "Python 3",
   "language": "python",
   "name": "python3"
  },
  "language_info": {
   "codemirror_mode": {
    "name": "ipython",
    "version": 3
   },
   "file_extension": ".py",
   "mimetype": "text/x-python",
   "name": "python",
   "nbconvert_exporter": "python",
   "pygments_lexer": "ipython3",
   "version": "3.7.12"
  },
  "papermill": {
   "default_parameters": {},
   "duration": 14.249183,
   "end_time": "2023-02-20T18:55:00.792612",
   "environment_variables": {},
   "exception": null,
   "input_path": "__notebook__.ipynb",
   "output_path": "__notebook__.ipynb",
   "parameters": {},
   "start_time": "2023-02-20T18:54:46.543429",
   "version": "2.3.4"
  }
 },
 "nbformat": 4,
 "nbformat_minor": 5
}
