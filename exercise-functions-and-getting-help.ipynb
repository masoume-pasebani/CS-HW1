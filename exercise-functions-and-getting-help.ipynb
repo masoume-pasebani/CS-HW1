{
 "cells": [
  {
   "cell_type": "markdown",
   "id": "cc1139b4",
   "metadata": {
    "papermill": {
     "duration": 0.009661,
     "end_time": "2023-02-20T19:05:25.649134",
     "exception": false,
     "start_time": "2023-02-20T19:05:25.639473",
     "status": "completed"
    },
    "tags": []
   },
   "source": [
    "**This notebook is an exercise in the [Python](https://www.kaggle.com/learn/python) course.  You can reference the tutorial at [this link](https://www.kaggle.com/colinmorris/functions-and-getting-help).**\n",
    "\n",
    "---\n"
   ]
  },
  {
   "cell_type": "markdown",
   "id": "dd026d63",
   "metadata": {
    "papermill": {
     "duration": 0.00481,
     "end_time": "2023-02-20T19:05:25.659502",
     "exception": false,
     "start_time": "2023-02-20T19:05:25.654692",
     "status": "completed"
    },
    "tags": []
   },
   "source": [
    "Functions are powerful. Try writing some yourself.\n",
    "\n",
    "As before, don't forget to run the setup code below before jumping into question 1."
   ]
  },
  {
   "cell_type": "code",
   "execution_count": 1,
   "id": "4b0991bf",
   "metadata": {
    "_kg_hide-input": true,
    "_kg_hide-output": true,
    "execution": {
     "iopub.execute_input": "2023-02-20T19:05:25.673032Z",
     "iopub.status.busy": "2023-02-20T19:05:25.672040Z",
     "iopub.status.idle": "2023-02-20T19:05:25.726925Z",
     "shell.execute_reply": "2023-02-20T19:05:25.725431Z"
    },
    "papermill": {
     "duration": 0.065788,
     "end_time": "2023-02-20T19:05:25.730507",
     "exception": false,
     "start_time": "2023-02-20T19:05:25.664719",
     "status": "completed"
    },
    "tags": []
   },
   "outputs": [
    {
     "name": "stdout",
     "output_type": "stream",
     "text": [
      "Setup complete.\n"
     ]
    }
   ],
   "source": [
    "# SETUP. You don't need to worry for now about what this code does or how it works.\n",
    "from learntools.core import binder; binder.bind(globals())\n",
    "from learntools.python.ex2 import *\n",
    "print('Setup complete.')"
   ]
  },
  {
   "cell_type": "markdown",
   "id": "2c6bf9ba",
   "metadata": {
    "papermill": {
     "duration": 0.005463,
     "end_time": "2023-02-20T19:05:25.741465",
     "exception": false,
     "start_time": "2023-02-20T19:05:25.736002",
     "status": "completed"
    },
    "tags": []
   },
   "source": [
    "# 1.\n",
    "\n",
    "Complete the body of the following function according to its docstring.\n",
    "\n",
    "HINT: Python has a built-in function `round`."
   ]
  },
  {
   "cell_type": "code",
   "execution_count": 2,
   "id": "b32d6537",
   "metadata": {
    "execution": {
     "iopub.execute_input": "2023-02-20T19:05:25.753917Z",
     "iopub.status.busy": "2023-02-20T19:05:25.753448Z",
     "iopub.status.idle": "2023-02-20T19:05:25.767667Z",
     "shell.execute_reply": "2023-02-20T19:05:25.766012Z"
    },
    "papermill": {
     "duration": 0.02386,
     "end_time": "2023-02-20T19:05:25.770576",
     "exception": false,
     "start_time": "2023-02-20T19:05:25.746716",
     "status": "completed"
    },
    "tags": []
   },
   "outputs": [
    {
     "data": {
      "application/javascript": [
       "parent.postMessage({\"jupyterEvent\": \"custom.exercise_interaction\", \"data\": {\"outcomeType\": 1, \"valueTowardsCompletion\": 0.16666666666666666, \"interactionType\": 1, \"questionType\": 2, \"questionId\": \"1_RoundFunctionProblem\", \"learnToolsVersion\": \"0.3.4\", \"failureMessage\": \"\", \"exceptionClass\": \"\", \"trace\": \"\"}}, \"*\")"
      ],
      "text/plain": [
       "<IPython.core.display.Javascript object>"
      ]
     },
     "metadata": {},
     "output_type": "display_data"
    },
    {
     "data": {
      "text/markdown": [
       "<span style=\"color:#33cc33\">Correct</span>"
      ],
      "text/plain": [
       "Correct"
      ]
     },
     "metadata": {},
     "output_type": "display_data"
    }
   ],
   "source": [
    "def round_to_two_places(num):\n",
    "    \"\"\"Return the given number rounded to two decimal places. \n",
    "    \n",
    "    >>> round_to_two_places(3.14159)\n",
    "    3.14\n",
    "    \"\"\"\n",
    "    return round(num , 2)\n",
    "    # Replace this body with your own code.\n",
    "    # (\"pass\" is a keyword that does literally nothing. We used it as a placeholder\n",
    "    # because after we begin a code block, Python requires at least one line of code)\n",
    "    pass\n",
    "\n",
    "# Check your answer\n",
    "q1.check()"
   ]
  },
  {
   "cell_type": "code",
   "execution_count": 3,
   "id": "f3865398",
   "metadata": {
    "execution": {
     "iopub.execute_input": "2023-02-20T19:05:25.783856Z",
     "iopub.status.busy": "2023-02-20T19:05:25.783353Z",
     "iopub.status.idle": "2023-02-20T19:05:25.788810Z",
     "shell.execute_reply": "2023-02-20T19:05:25.787487Z"
    },
    "papermill": {
     "duration": 0.015261,
     "end_time": "2023-02-20T19:05:25.791543",
     "exception": false,
     "start_time": "2023-02-20T19:05:25.776282",
     "status": "completed"
    },
    "tags": []
   },
   "outputs": [],
   "source": [
    "# Uncomment the following for a hint\n",
    "#q1.hint()\n",
    "# Or uncomment the following to peek at the solution\n",
    "#q1.solution()"
   ]
  },
  {
   "cell_type": "markdown",
   "id": "66caf96d",
   "metadata": {
    "papermill": {
     "duration": 0.005052,
     "end_time": "2023-02-20T19:05:25.802130",
     "exception": false,
     "start_time": "2023-02-20T19:05:25.797078",
     "status": "completed"
    },
    "tags": []
   },
   "source": [
    "# 2.\n",
    "The help for `round` says that `ndigits` (the second argument) may be negative.\n",
    "What do you think will happen when it is? Try some examples in the following cell."
   ]
  },
  {
   "cell_type": "code",
   "execution_count": 4,
   "id": "3e4a26ce",
   "metadata": {
    "execution": {
     "iopub.execute_input": "2023-02-20T19:05:25.815470Z",
     "iopub.status.busy": "2023-02-20T19:05:25.814274Z",
     "iopub.status.idle": "2023-02-20T19:05:25.821580Z",
     "shell.execute_reply": "2023-02-20T19:05:25.820119Z"
    },
    "papermill": {
     "duration": 0.016786,
     "end_time": "2023-02-20T19:05:25.824318",
     "exception": false,
     "start_time": "2023-02-20T19:05:25.807532",
     "status": "completed"
    },
    "tags": []
   },
   "outputs": [
    {
     "name": "stdout",
     "output_type": "stream",
     "text": [
      "200.0\n",
      "100.0\n"
     ]
    }
   ],
   "source": [
    "# Put your test code here\n",
    "print(round(200.34612, -2))\n",
    "print(round(100.4552 , -1))"
   ]
  },
  {
   "cell_type": "markdown",
   "id": "84054356",
   "metadata": {
    "papermill": {
     "duration": 0.0065,
     "end_time": "2023-02-20T19:05:25.836402",
     "exception": false,
     "start_time": "2023-02-20T19:05:25.829902",
     "status": "completed"
    },
    "tags": []
   },
   "source": [
    "Can you think of a case where this would be useful?  Once you're ready, run the code cell below to see the answer and to receive credit for completing the problem."
   ]
  },
  {
   "cell_type": "code",
   "execution_count": 5,
   "id": "75c4e35c",
   "metadata": {
    "execution": {
     "iopub.execute_input": "2023-02-20T19:05:25.850591Z",
     "iopub.status.busy": "2023-02-20T19:05:25.850051Z",
     "iopub.status.idle": "2023-02-20T19:05:25.860988Z",
     "shell.execute_reply": "2023-02-20T19:05:25.859679Z"
    },
    "papermill": {
     "duration": 0.020694,
     "end_time": "2023-02-20T19:05:25.863453",
     "exception": false,
     "start_time": "2023-02-20T19:05:25.842759",
     "status": "completed"
    },
    "tags": []
   },
   "outputs": [
    {
     "data": {
      "application/javascript": [
       "parent.postMessage({\"jupyterEvent\": \"custom.exercise_interaction\", \"data\": {\"interactionType\": 3, \"questionType\": 4, \"questionId\": \"2_RoundNdigitsProblem\", \"learnToolsVersion\": \"0.3.4\", \"valueTowardsCompletion\": 0.0, \"failureMessage\": \"\", \"exceptionClass\": \"\", \"trace\": \"\", \"outcomeType\": 4}}, \"*\")"
      ],
      "text/plain": [
       "<IPython.core.display.Javascript object>"
      ]
     },
     "metadata": {},
     "output_type": "display_data"
    },
    {
     "data": {
      "text/markdown": [
       "<span style=\"color:#33cc99\">Solution:</span> As you've seen, `ndigits=-1` rounds to the nearest 10, `ndigits=-2` rounds to the nearest 100 and so on. Where might this be useful? Suppose we're dealing with large numbers:\n",
       "\n",
       "> The area of Finland is 338,424 km²  \n",
       "> The area of Greenland is 2,166,086 km²\n",
       "\n",
       "We probably don't care whether it's really 338,424, or 338,425, or 338,177. All those digits of accuracy are just distracting. We can chop them off by calling `round()` with `ndigits=-3`:\n",
       "\n",
       "> The area of Finland is 338,000 km²  \n",
       "> The area of Greenland is 2,166,000 km²\n",
       "\n",
       "(We'll talk about how we would get the commas later when we talk about string formatting :))\n"
      ],
      "text/plain": [
       "Solution: As you've seen, `ndigits=-1` rounds to the nearest 10, `ndigits=-2` rounds to the nearest 100 and so on. Where might this be useful? Suppose we're dealing with large numbers:\n",
       "\n",
       "> The area of Finland is 338,424 km²  \n",
       "> The area of Greenland is 2,166,086 km²\n",
       "\n",
       "We probably don't care whether it's really 338,424, or 338,425, or 338,177. All those digits of accuracy are just distracting. We can chop them off by calling `round()` with `ndigits=-3`:\n",
       "\n",
       "> The area of Finland is 338,000 km²  \n",
       "> The area of Greenland is 2,166,000 km²\n",
       "\n",
       "(We'll talk about how we would get the commas later when we talk about string formatting :))"
      ]
     },
     "metadata": {},
     "output_type": "display_data"
    }
   ],
   "source": [
    "# Check your answer (Run this code cell to receive credit!)\n",
    "q2.solution()"
   ]
  },
  {
   "cell_type": "markdown",
   "id": "84a7233a",
   "metadata": {
    "papermill": {
     "duration": 0.005523,
     "end_time": "2023-02-20T19:05:25.874846",
     "exception": false,
     "start_time": "2023-02-20T19:05:25.869323",
     "status": "completed"
    },
    "tags": []
   },
   "source": [
    "# 3.\n",
    "\n",
    "In the previous exercise, the candy-sharing friends Alice, Bob and Carol tried to split candies evenly. For the sake of their friendship, any candies left over would be smashed. For example, if they collectively bring home 91 candies, they'll take 30 each and smash 1.\n",
    "\n",
    "Below is a simple function that will calculate the number of candies to smash for *any* number of total candies.\n",
    "\n",
    "Modify it so that it optionally takes a second argument representing the number of friends the candies are being split between. If no second argument is provided, it should assume 3 friends, as before.\n",
    "\n",
    "Update the docstring to reflect this new behaviour."
   ]
  },
  {
   "cell_type": "code",
   "execution_count": 6,
   "id": "e4845c7d",
   "metadata": {
    "execution": {
     "iopub.execute_input": "2023-02-20T19:05:25.889512Z",
     "iopub.status.busy": "2023-02-20T19:05:25.888049Z",
     "iopub.status.idle": "2023-02-20T19:05:25.900576Z",
     "shell.execute_reply": "2023-02-20T19:05:25.898929Z"
    },
    "papermill": {
     "duration": 0.022911,
     "end_time": "2023-02-20T19:05:25.903582",
     "exception": false,
     "start_time": "2023-02-20T19:05:25.880671",
     "status": "completed"
    },
    "tags": []
   },
   "outputs": [
    {
     "data": {
      "application/javascript": [
       "parent.postMessage({\"jupyterEvent\": \"custom.exercise_interaction\", \"data\": {\"outcomeType\": 1, \"valueTowardsCompletion\": 0.16666666666666666, \"interactionType\": 1, \"questionType\": 2, \"questionId\": \"3_CandySmashingFunctionProblem\", \"learnToolsVersion\": \"0.3.4\", \"failureMessage\": \"\", \"exceptionClass\": \"\", \"trace\": \"\"}}, \"*\")"
      ],
      "text/plain": [
       "<IPython.core.display.Javascript object>"
      ]
     },
     "metadata": {},
     "output_type": "display_data"
    },
    {
     "data": {
      "text/markdown": [
       "<span style=\"color:#33cc33\">Correct</span>"
      ],
      "text/plain": [
       "Correct"
      ]
     },
     "metadata": {},
     "output_type": "display_data"
    }
   ],
   "source": [
    "def to_smash(total_candies , num=3):\n",
    "    \"\"\"Return the number of leftover candies that must be smashed after distributing\n",
    "    the given number of candies evenly between 3 friends.\n",
    "    \n",
    "    >>> to_smash(91)\n",
    "    1\n",
    "    \"\"\"\n",
    "    return total_candies % num\n",
    "\n",
    "# Check your answer\n",
    "q3.check()"
   ]
  },
  {
   "cell_type": "code",
   "execution_count": 7,
   "id": "d22f068c",
   "metadata": {
    "execution": {
     "iopub.execute_input": "2023-02-20T19:05:25.919370Z",
     "iopub.status.busy": "2023-02-20T19:05:25.918763Z",
     "iopub.status.idle": "2023-02-20T19:05:25.924702Z",
     "shell.execute_reply": "2023-02-20T19:05:25.923413Z"
    },
    "papermill": {
     "duration": 0.01634,
     "end_time": "2023-02-20T19:05:25.926996",
     "exception": false,
     "start_time": "2023-02-20T19:05:25.910656",
     "status": "completed"
    },
    "tags": []
   },
   "outputs": [],
   "source": [
    "#q3.hint()"
   ]
  },
  {
   "cell_type": "code",
   "execution_count": 8,
   "id": "4eec09d9",
   "metadata": {
    "execution": {
     "iopub.execute_input": "2023-02-20T19:05:25.942069Z",
     "iopub.status.busy": "2023-02-20T19:05:25.941596Z",
     "iopub.status.idle": "2023-02-20T19:05:25.947005Z",
     "shell.execute_reply": "2023-02-20T19:05:25.945434Z"
    },
    "papermill": {
     "duration": 0.016137,
     "end_time": "2023-02-20T19:05:25.949514",
     "exception": false,
     "start_time": "2023-02-20T19:05:25.933377",
     "status": "completed"
    },
    "tags": []
   },
   "outputs": [],
   "source": [
    "#q3.solution()"
   ]
  },
  {
   "cell_type": "markdown",
   "id": "b61887ae",
   "metadata": {
    "papermill": {
     "duration": 0.006187,
     "end_time": "2023-02-20T19:05:25.962094",
     "exception": false,
     "start_time": "2023-02-20T19:05:25.955907",
     "status": "completed"
    },
    "tags": []
   },
   "source": [
    "# 4. (Optional)\n",
    "\n",
    "It may not be fun, but reading and understanding error messages will be an important part of your Python career.\n",
    "\n",
    "Each code cell below contains some commented buggy code. For each cell...\n",
    "\n",
    "1. Read the code and predict what you think will happen when it's run.\n",
    "2. Then uncomment the code and run it to see what happens. (**Tip**: In the kernel editor, you can highlight several lines and press `ctrl`+`/` to toggle commenting.)\n",
    "3. Fix the code (so that it accomplishes its intended purpose without throwing an exception)\n",
    "\n",
    "<!-- TODO: should this be autochecked? Delta is probably pretty small. -->"
   ]
  },
  {
   "cell_type": "code",
   "execution_count": 9,
   "id": "4e4b563d",
   "metadata": {
    "execution": {
     "iopub.execute_input": "2023-02-20T19:05:25.976689Z",
     "iopub.status.busy": "2023-02-20T19:05:25.976170Z",
     "iopub.status.idle": "2023-02-20T19:05:25.984463Z",
     "shell.execute_reply": "2023-02-20T19:05:25.983128Z"
    },
    "papermill": {
     "duration": 0.018767,
     "end_time": "2023-02-20T19:05:25.987085",
     "exception": false,
     "start_time": "2023-02-20T19:05:25.968318",
     "status": "completed"
    },
    "tags": []
   },
   "outputs": [
    {
     "data": {
      "text/plain": [
       "10.0"
      ]
     },
     "execution_count": 9,
     "metadata": {},
     "output_type": "execute_result"
    }
   ],
   "source": [
    "round_to_two_places(9.9999)"
   ]
  },
  {
   "cell_type": "code",
   "execution_count": 10,
   "id": "702c3b4c",
   "metadata": {
    "execution": {
     "iopub.execute_input": "2023-02-20T19:05:26.001642Z",
     "iopub.status.busy": "2023-02-20T19:05:26.001144Z",
     "iopub.status.idle": "2023-02-20T19:05:26.007993Z",
     "shell.execute_reply": "2023-02-20T19:05:26.006675Z"
    },
    "papermill": {
     "duration": 0.017979,
     "end_time": "2023-02-20T19:05:26.011271",
     "exception": false,
     "start_time": "2023-02-20T19:05:25.993292",
     "status": "completed"
    },
    "tags": []
   },
   "outputs": [
    {
     "name": "stdout",
     "output_type": "stream",
     "text": [
      "5\n"
     ]
    }
   ],
   "source": [
    "x = -10\n",
    "y = 5\n",
    "# # Which of the two variables above has the smallest absolute value?\n",
    "smallest_abs = min(abs(x) , abs(y))\n",
    "print(smallest_abs)"
   ]
  },
  {
   "cell_type": "code",
   "execution_count": 11,
   "id": "d37b9939",
   "metadata": {
    "execution": {
     "iopub.execute_input": "2023-02-20T19:05:26.027353Z",
     "iopub.status.busy": "2023-02-20T19:05:26.026833Z",
     "iopub.status.idle": "2023-02-20T19:05:26.033588Z",
     "shell.execute_reply": "2023-02-20T19:05:26.032170Z"
    },
    "papermill": {
     "duration": 0.018551,
     "end_time": "2023-02-20T19:05:26.037270",
     "exception": false,
     "start_time": "2023-02-20T19:05:26.018719",
     "status": "completed"
    },
    "tags": []
   },
   "outputs": [
    {
     "name": "stdout",
     "output_type": "stream",
     "text": [
      "5\n"
     ]
    }
   ],
   "source": [
    "def f(x):\n",
    "    y = abs(x)\n",
    "    return y\n",
    "\n",
    "print(f(5))"
   ]
  },
  {
   "cell_type": "markdown",
   "id": "96ba8efe",
   "metadata": {
    "papermill": {
     "duration": 0.006132,
     "end_time": "2023-02-20T19:05:26.051011",
     "exception": false,
     "start_time": "2023-02-20T19:05:26.044879",
     "status": "completed"
    },
    "tags": []
   },
   "source": [
    "# Keep Going\n",
    "\n",
    "Nice job with the code. Next up, you'll learn about *conditionals*, which you'll need to **[write interesting programs](https://www.kaggle.com/colinmorris/booleans-and-conditionals)**. "
   ]
  },
  {
   "cell_type": "markdown",
   "id": "151fd632",
   "metadata": {
    "papermill": {
     "duration": 0.006019,
     "end_time": "2023-02-20T19:05:26.063641",
     "exception": false,
     "start_time": "2023-02-20T19:05:26.057622",
     "status": "completed"
    },
    "tags": []
   },
   "source": [
    "---\n",
    "\n",
    "\n",
    "\n",
    "\n",
    "*Have questions or comments? Visit the [course discussion forum](https://www.kaggle.com/learn/python/discussion) to chat with other learners.*"
   ]
  }
 ],
 "metadata": {
  "kernelspec": {
   "display_name": "Python 3",
   "language": "python",
   "name": "python3"
  },
  "language_info": {
   "codemirror_mode": {
    "name": "ipython",
    "version": 3
   },
   "file_extension": ".py",
   "mimetype": "text/x-python",
   "name": "python",
   "nbconvert_exporter": "python",
   "pygments_lexer": "ipython3",
   "version": "3.7.12"
  },
  "papermill": {
   "default_parameters": {},
   "duration": 13.430782,
   "end_time": "2023-02-20T19:05:26.995672",
   "environment_variables": {},
   "exception": null,
   "input_path": "__notebook__.ipynb",
   "output_path": "__notebook__.ipynb",
   "parameters": {},
   "start_time": "2023-02-20T19:05:13.564890",
   "version": "2.3.4"
  }
 },
 "nbformat": 4,
 "nbformat_minor": 5
}
