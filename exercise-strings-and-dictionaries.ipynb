{
 "cells": [
  {
   "cell_type": "markdown",
   "id": "fa26fd54",
   "metadata": {
    "papermill": {
     "duration": 0.007906,
     "end_time": "2023-02-20T21:05:39.415513",
     "exception": false,
     "start_time": "2023-02-20T21:05:39.407607",
     "status": "completed"
    },
    "tags": []
   },
   "source": [
    "**This notebook is an exercise in the [Python](https://www.kaggle.com/learn/python) course.  You can reference the tutorial at [this link](https://www.kaggle.com/colinmorris/strings-and-dictionaries).**\n",
    "\n",
    "---\n"
   ]
  },
  {
   "cell_type": "markdown",
   "id": "486455e3",
   "metadata": {
    "papermill": {
     "duration": 0.005441,
     "end_time": "2023-02-20T21:05:39.427170",
     "exception": false,
     "start_time": "2023-02-20T21:05:39.421729",
     "status": "completed"
    },
    "tags": []
   },
   "source": [
    "You are almost done with the course. Nice job!\n",
    "\n",
    "We have a couple more interesting problems for you before you go. \n",
    "\n",
    "As always, run the setup code below before working on the questions."
   ]
  },
  {
   "cell_type": "code",
   "execution_count": 1,
   "id": "2a9378ef",
   "metadata": {
    "execution": {
     "iopub.execute_input": "2023-02-20T21:05:39.440953Z",
     "iopub.status.busy": "2023-02-20T21:05:39.440386Z",
     "iopub.status.idle": "2023-02-20T21:05:39.503291Z",
     "shell.execute_reply": "2023-02-20T21:05:39.501821Z"
    },
    "papermill": {
     "duration": 0.073852,
     "end_time": "2023-02-20T21:05:39.506866",
     "exception": false,
     "start_time": "2023-02-20T21:05:39.433014",
     "status": "completed"
    },
    "tags": []
   },
   "outputs": [
    {
     "name": "stdout",
     "output_type": "stream",
     "text": [
      "Setup complete.\n"
     ]
    }
   ],
   "source": [
    "from learntools.core import binder; binder.bind(globals())\n",
    "from learntools.python.ex6 import *\n",
    "print('Setup complete.')"
   ]
  },
  {
   "cell_type": "markdown",
   "id": "7144c379",
   "metadata": {
    "papermill": {
     "duration": 0.005936,
     "end_time": "2023-02-20T21:05:39.519128",
     "exception": false,
     "start_time": "2023-02-20T21:05:39.513192",
     "status": "completed"
    },
    "tags": []
   },
   "source": [
    "Let's start with a string lightning round to warm up. What are the lengths of the strings below?\n",
    "\n",
    "For each of the five strings below, predict what `len()` would return when passed that string. Use the variable `length` to record your answer, then run the cell to check whether you were right.  \n",
    "\n",
    "# 0a."
   ]
  },
  {
   "cell_type": "code",
   "execution_count": 2,
   "id": "0b219413",
   "metadata": {
    "execution": {
     "iopub.execute_input": "2023-02-20T21:05:39.534101Z",
     "iopub.status.busy": "2023-02-20T21:05:39.533530Z",
     "iopub.status.idle": "2023-02-20T21:05:39.548123Z",
     "shell.execute_reply": "2023-02-20T21:05:39.546660Z"
    },
    "papermill": {
     "duration": 0.025495,
     "end_time": "2023-02-20T21:05:39.550821",
     "exception": false,
     "start_time": "2023-02-20T21:05:39.525326",
     "status": "completed"
    },
    "tags": []
   },
   "outputs": [
    {
     "data": {
      "application/javascript": [
       "parent.postMessage({\"jupyterEvent\": \"custom.exercise_interaction\", \"data\": {\"outcomeType\": 1, \"valueTowardsCompletion\": 0.3333333333333333, \"interactionType\": 1, \"questionType\": 1, \"questionId\": \"0.1_ZA\", \"learnToolsVersion\": \"0.3.4\", \"failureMessage\": \"\", \"exceptionClass\": \"\", \"trace\": \"\"}}, \"*\")"
      ],
      "text/plain": [
       "<IPython.core.display.Javascript object>"
      ]
     },
     "metadata": {},
     "output_type": "display_data"
    },
    {
     "data": {
      "text/markdown": [
       "<span style=\"color:#33cc33\">Correct:</span> \n",
       "\n",
       "The empty string has length zero. Note that the empty string is also the only string that Python considers as False when converting to boolean."
      ],
      "text/plain": [
       "Correct: \n",
       "\n",
       "The empty string has length zero. Note that the empty string is also the only string that Python considers as False when converting to boolean."
      ]
     },
     "metadata": {},
     "output_type": "display_data"
    }
   ],
   "source": [
    "a = \"\"\n",
    "length = 0\n",
    "q0.a.check()"
   ]
  },
  {
   "cell_type": "markdown",
   "id": "4e5aeeed",
   "metadata": {
    "papermill": {
     "duration": 0.006266,
     "end_time": "2023-02-20T21:05:39.563297",
     "exception": false,
     "start_time": "2023-02-20T21:05:39.557031",
     "status": "completed"
    },
    "tags": []
   },
   "source": [
    "# 0b."
   ]
  },
  {
   "cell_type": "code",
   "execution_count": 3,
   "id": "d015d8ba",
   "metadata": {
    "execution": {
     "iopub.execute_input": "2023-02-20T21:05:39.577786Z",
     "iopub.status.busy": "2023-02-20T21:05:39.577265Z",
     "iopub.status.idle": "2023-02-20T21:05:39.588406Z",
     "shell.execute_reply": "2023-02-20T21:05:39.586871Z"
    },
    "papermill": {
     "duration": 0.023216,
     "end_time": "2023-02-20T21:05:39.592778",
     "exception": false,
     "start_time": "2023-02-20T21:05:39.569562",
     "status": "completed"
    },
    "tags": []
   },
   "outputs": [
    {
     "data": {
      "application/javascript": [
       "parent.postMessage({\"jupyterEvent\": \"custom.exercise_interaction\", \"data\": {\"outcomeType\": 1, \"valueTowardsCompletion\": 0.3333333333333333, \"interactionType\": 1, \"questionType\": 1, \"questionId\": \"0.2_ZB\", \"learnToolsVersion\": \"0.3.4\", \"failureMessage\": \"\", \"exceptionClass\": \"\", \"trace\": \"\"}}, \"*\")"
      ],
      "text/plain": [
       "<IPython.core.display.Javascript object>"
      ]
     },
     "metadata": {},
     "output_type": "display_data"
    },
    {
     "data": {
      "text/markdown": [
       "<span style=\"color:#33cc33\">Correct:</span> \n",
       "\n",
       "Keep in mind Python includes spaces (and punctuation) when counting string length."
      ],
      "text/plain": [
       "Correct: \n",
       "\n",
       "Keep in mind Python includes spaces (and punctuation) when counting string length."
      ]
     },
     "metadata": {},
     "output_type": "display_data"
    }
   ],
   "source": [
    "b = \"it's ok\"\n",
    "length = 7\n",
    "q0.b.check()"
   ]
  },
  {
   "cell_type": "markdown",
   "id": "2add0be6",
   "metadata": {
    "papermill": {
     "duration": 0.006033,
     "end_time": "2023-02-20T21:05:39.605832",
     "exception": false,
     "start_time": "2023-02-20T21:05:39.599799",
     "status": "completed"
    },
    "tags": []
   },
   "source": [
    "# 0c."
   ]
  },
  {
   "cell_type": "code",
   "execution_count": 4,
   "id": "5dfbd9ac",
   "metadata": {
    "execution": {
     "iopub.execute_input": "2023-02-20T21:05:39.620649Z",
     "iopub.status.busy": "2023-02-20T21:05:39.620180Z",
     "iopub.status.idle": "2023-02-20T21:05:39.631046Z",
     "shell.execute_reply": "2023-02-20T21:05:39.629756Z"
    },
    "papermill": {
     "duration": 0.021313,
     "end_time": "2023-02-20T21:05:39.633505",
     "exception": false,
     "start_time": "2023-02-20T21:05:39.612192",
     "status": "completed"
    },
    "tags": []
   },
   "outputs": [
    {
     "data": {
      "application/javascript": [
       "parent.postMessage({\"jupyterEvent\": \"custom.exercise_interaction\", \"data\": {\"outcomeType\": 1, \"valueTowardsCompletion\": 0.3333333333333333, \"interactionType\": 1, \"questionType\": 1, \"questionId\": \"0.3_ZC\", \"learnToolsVersion\": \"0.3.4\", \"failureMessage\": \"\", \"exceptionClass\": \"\", \"trace\": \"\"}}, \"*\")"
      ],
      "text/plain": [
       "<IPython.core.display.Javascript object>"
      ]
     },
     "metadata": {},
     "output_type": "display_data"
    },
    {
     "data": {
      "text/markdown": [
       "<span style=\"color:#33cc33\">Correct:</span> \n",
       "\n",
       "Even though we use different syntax to create it, the string `c` is identical to `b`. In particular, note that the backslash is not part of the string, so it doesn't contribute to its length."
      ],
      "text/plain": [
       "Correct: \n",
       "\n",
       "Even though we use different syntax to create it, the string `c` is identical to `b`. In particular, note that the backslash is not part of the string, so it doesn't contribute to its length."
      ]
     },
     "metadata": {},
     "output_type": "display_data"
    }
   ],
   "source": [
    "c = 'it\\'s ok'\n",
    "length = 7\n",
    "q0.c.check()"
   ]
  },
  {
   "cell_type": "markdown",
   "id": "e8c8e95d",
   "metadata": {
    "papermill": {
     "duration": 0.007333,
     "end_time": "2023-02-20T21:05:39.647926",
     "exception": false,
     "start_time": "2023-02-20T21:05:39.640593",
     "status": "completed"
    },
    "tags": []
   },
   "source": [
    "# 0d."
   ]
  },
  {
   "cell_type": "code",
   "execution_count": 5,
   "id": "eca98216",
   "metadata": {
    "execution": {
     "iopub.execute_input": "2023-02-20T21:05:39.664351Z",
     "iopub.status.busy": "2023-02-20T21:05:39.663824Z",
     "iopub.status.idle": "2023-02-20T21:05:39.675008Z",
     "shell.execute_reply": "2023-02-20T21:05:39.673714Z"
    },
    "papermill": {
     "duration": 0.022301,
     "end_time": "2023-02-20T21:05:39.677385",
     "exception": false,
     "start_time": "2023-02-20T21:05:39.655084",
     "status": "completed"
    },
    "tags": []
   },
   "outputs": [
    {
     "data": {
      "application/javascript": [
       "parent.postMessage({\"jupyterEvent\": \"custom.exercise_interaction\", \"data\": {\"outcomeType\": 1, \"valueTowardsCompletion\": 0.3333333333333333, \"interactionType\": 1, \"questionType\": 1, \"questionId\": \"0.4_ZD\", \"learnToolsVersion\": \"0.3.4\", \"failureMessage\": \"\", \"exceptionClass\": \"\", \"trace\": \"\"}}, \"*\")"
      ],
      "text/plain": [
       "<IPython.core.display.Javascript object>"
      ]
     },
     "metadata": {},
     "output_type": "display_data"
    },
    {
     "data": {
      "text/markdown": [
       "<span style=\"color:#33cc33\">Correct:</span> \n",
       "\n",
       "The fact that this string was created using triple-quote syntax doesn't make any difference in terms of its content or length. This string is exactly the same as `'hey'`."
      ],
      "text/plain": [
       "Correct: \n",
       "\n",
       "The fact that this string was created using triple-quote syntax doesn't make any difference in terms of its content or length. This string is exactly the same as `'hey'`."
      ]
     },
     "metadata": {},
     "output_type": "display_data"
    }
   ],
   "source": [
    "d = \"\"\"hey\"\"\"\n",
    "length = 3\n",
    "q0.d.check()"
   ]
  },
  {
   "cell_type": "markdown",
   "id": "4ce7be85",
   "metadata": {
    "papermill": {
     "duration": 0.006608,
     "end_time": "2023-02-20T21:05:39.691691",
     "exception": false,
     "start_time": "2023-02-20T21:05:39.685083",
     "status": "completed"
    },
    "tags": []
   },
   "source": [
    "# 0e."
   ]
  },
  {
   "cell_type": "code",
   "execution_count": 6,
   "id": "522ea488",
   "metadata": {
    "execution": {
     "iopub.execute_input": "2023-02-20T21:05:39.708326Z",
     "iopub.status.busy": "2023-02-20T21:05:39.707805Z",
     "iopub.status.idle": "2023-02-20T21:05:39.718380Z",
     "shell.execute_reply": "2023-02-20T21:05:39.717160Z"
    },
    "papermill": {
     "duration": 0.022051,
     "end_time": "2023-02-20T21:05:39.720787",
     "exception": false,
     "start_time": "2023-02-20T21:05:39.698736",
     "status": "completed"
    },
    "tags": []
   },
   "outputs": [
    {
     "data": {
      "application/javascript": [
       "parent.postMessage({\"jupyterEvent\": \"custom.exercise_interaction\", \"data\": {\"outcomeType\": 1, \"valueTowardsCompletion\": 0.3333333333333333, \"interactionType\": 1, \"questionType\": 1, \"questionId\": \"0.5_ZE\", \"learnToolsVersion\": \"0.3.4\", \"failureMessage\": \"\", \"exceptionClass\": \"\", \"trace\": \"\"}}, \"*\")"
      ],
      "text/plain": [
       "<IPython.core.display.Javascript object>"
      ]
     },
     "metadata": {},
     "output_type": "display_data"
    },
    {
     "data": {
      "text/markdown": [
       "<span style=\"color:#33cc33\">Correct:</span> \n",
       "\n",
       "The newline character is just a single character! (Even though we represent it to Python using a combination of two characters.)"
      ],
      "text/plain": [
       "Correct: \n",
       "\n",
       "The newline character is just a single character! (Even though we represent it to Python using a combination of two characters.)"
      ]
     },
     "metadata": {},
     "output_type": "display_data"
    }
   ],
   "source": [
    "e = '\\n'\n",
    "length = 1\n",
    "q0.e.check()"
   ]
  },
  {
   "cell_type": "markdown",
   "id": "266e87c8",
   "metadata": {
    "papermill": {
     "duration": 0.006943,
     "end_time": "2023-02-20T21:05:39.735100",
     "exception": false,
     "start_time": "2023-02-20T21:05:39.728157",
     "status": "completed"
    },
    "tags": []
   },
   "source": [
    "# 1.\n",
    "\n",
    "There is a saying that \"Data scientists spend 80% of their time cleaning data, and 20% of their time complaining about cleaning data.\" Let's see if you can write a function to help clean US zip code data. Given a string, it should return whether or not that string represents a valid zip code. For our purposes, a valid zip code is any string consisting of exactly 5 digits.\n",
    "\n",
    "HINT: `str` has a method that will be useful here. Use `help(str)` to review a list of string methods."
   ]
  },
  {
   "cell_type": "code",
   "execution_count": 7,
   "id": "d0d0eace",
   "metadata": {
    "execution": {
     "iopub.execute_input": "2023-02-20T21:05:39.751811Z",
     "iopub.status.busy": "2023-02-20T21:05:39.751245Z",
     "iopub.status.idle": "2023-02-20T21:05:39.770915Z",
     "shell.execute_reply": "2023-02-20T21:05:39.769465Z"
    },
    "papermill": {
     "duration": 0.031043,
     "end_time": "2023-02-20T21:05:39.773453",
     "exception": false,
     "start_time": "2023-02-20T21:05:39.742410",
     "status": "completed"
    },
    "tags": []
   },
   "outputs": [
    {
     "data": {
      "application/javascript": [
       "parent.postMessage({\"jupyterEvent\": \"custom.exercise_interaction\", \"data\": {\"outcomeType\": 1, \"valueTowardsCompletion\": 0.3333333333333333, \"interactionType\": 1, \"questionType\": 2, \"questionId\": \"1_ZipValidator\", \"learnToolsVersion\": \"0.3.4\", \"failureMessage\": \"\", \"exceptionClass\": \"\", \"trace\": \"\"}}, \"*\")"
      ],
      "text/plain": [
       "<IPython.core.display.Javascript object>"
      ]
     },
     "metadata": {},
     "output_type": "display_data"
    },
    {
     "data": {
      "text/markdown": [
       "<span style=\"color:#33cc33\">Correct</span>"
      ],
      "text/plain": [
       "Correct"
      ]
     },
     "metadata": {},
     "output_type": "display_data"
    }
   ],
   "source": [
    "def is_valid_zip(zip_code):\n",
    "    \"\"\"Returns whether the input string is a valid (5 digit) zip code\n",
    "    \"\"\"\n",
    "    if zip_code.isdigit() and len(zip_code)==5:\n",
    "        return True\n",
    "    else:\n",
    "        return False\n",
    "    pass\n",
    "\n",
    "# Check your answer\n",
    "q1.check()"
   ]
  },
  {
   "cell_type": "code",
   "execution_count": 8,
   "id": "f7989b44",
   "metadata": {
    "execution": {
     "iopub.execute_input": "2023-02-20T21:05:39.790662Z",
     "iopub.status.busy": "2023-02-20T21:05:39.790158Z",
     "iopub.status.idle": "2023-02-20T21:05:39.795334Z",
     "shell.execute_reply": "2023-02-20T21:05:39.794113Z"
    },
    "papermill": {
     "duration": 0.016702,
     "end_time": "2023-02-20T21:05:39.797688",
     "exception": false,
     "start_time": "2023-02-20T21:05:39.780986",
     "status": "completed"
    },
    "tags": []
   },
   "outputs": [],
   "source": [
    "#q1.hint()\n",
    "#q1.solution()"
   ]
  },
  {
   "cell_type": "markdown",
   "id": "8fade443",
   "metadata": {
    "papermill": {
     "duration": 0.007252,
     "end_time": "2023-02-20T21:05:39.812377",
     "exception": false,
     "start_time": "2023-02-20T21:05:39.805125",
     "status": "completed"
    },
    "tags": []
   },
   "source": [
    "# 2.\n",
    "\n",
    "A researcher has gathered thousands of news articles. But she wants to focus her attention on articles including a specific word. Complete the function below to help her filter her list of articles.\n",
    "\n",
    "Your function should meet the following criteria:\n",
    "\n",
    "- Do not include documents where the keyword string shows up only as a part of a larger word. For example, if she were looking for the keyword “closed”, you would not include the string “enclosed.” \n",
    "- She does not want you to distinguish upper case from lower case letters. So the phrase “Closed the case.” would be included when the keyword is “closed”\n",
    "- Do not let periods or commas affect what is matched. “It is closed.” would be included when the keyword is “closed”. But you can assume there are no other types of punctuation."
   ]
  },
  {
   "cell_type": "code",
   "execution_count": 9,
   "id": "d58872a9",
   "metadata": {
    "execution": {
     "iopub.execute_input": "2023-02-20T21:05:39.829199Z",
     "iopub.status.busy": "2023-02-20T21:05:39.828691Z",
     "iopub.status.idle": "2023-02-20T21:05:39.841078Z",
     "shell.execute_reply": "2023-02-20T21:05:39.840193Z"
    },
    "papermill": {
     "duration": 0.023677,
     "end_time": "2023-02-20T21:05:39.843437",
     "exception": false,
     "start_time": "2023-02-20T21:05:39.819760",
     "status": "completed"
    },
    "tags": []
   },
   "outputs": [
    {
     "data": {
      "application/javascript": [
       "parent.postMessage({\"jupyterEvent\": \"custom.exercise_interaction\", \"data\": {\"outcomeType\": 1, \"valueTowardsCompletion\": 0.3333333333333333, \"interactionType\": 1, \"questionType\": 2, \"questionId\": \"2_WordSearch\", \"learnToolsVersion\": \"0.3.4\", \"failureMessage\": \"\", \"exceptionClass\": \"\", \"trace\": \"\"}}, \"*\")"
      ],
      "text/plain": [
       "<IPython.core.display.Javascript object>"
      ]
     },
     "metadata": {},
     "output_type": "display_data"
    },
    {
     "data": {
      "text/markdown": [
       "<span style=\"color:#33cc33\">Correct</span>"
      ],
      "text/plain": [
       "Correct"
      ]
     },
     "metadata": {},
     "output_type": "display_data"
    }
   ],
   "source": [
    "def word_search(doc_list, keyword):\n",
    "    \"\"\"\n",
    "    Takes a list of documents (each document is a string) and a keyword. \n",
    "    Returns list of the index values into the original list for all documents \n",
    "    containing the keyword.\n",
    "\n",
    "    Example:\n",
    "    doc_list = [\"The Learn Python Challenge Casino.\", \"They bought a car\", \"Casinoville\"]\n",
    "    >>> word_search(doc_list, 'casino')\n",
    "    >>> [0]\n",
    "    \"\"\"\n",
    "    L = []\n",
    "    for i, doc in enumerate(doc_list):\n",
    "        tokens = doc.split()\n",
    "        normalized = [token.rstrip('.,').lower() for token in tokens]\n",
    "        if keyword.lower() in normalized:\n",
    "            L.append(i)\n",
    "    return L\n",
    "    \n",
    "    pass\n",
    "\n",
    "# Check your answer\n",
    "q2.check()"
   ]
  },
  {
   "cell_type": "code",
   "execution_count": 10,
   "id": "12de0e20",
   "metadata": {
    "execution": {
     "iopub.execute_input": "2023-02-20T21:05:39.861575Z",
     "iopub.status.busy": "2023-02-20T21:05:39.861050Z",
     "iopub.status.idle": "2023-02-20T21:05:39.866730Z",
     "shell.execute_reply": "2023-02-20T21:05:39.865197Z"
    },
    "papermill": {
     "duration": 0.017985,
     "end_time": "2023-02-20T21:05:39.869172",
     "exception": false,
     "start_time": "2023-02-20T21:05:39.851187",
     "status": "completed"
    },
    "tags": []
   },
   "outputs": [],
   "source": [
    "#q2.hint()\n",
    "#q2.solution()"
   ]
  },
  {
   "cell_type": "markdown",
   "id": "b747c5e7",
   "metadata": {
    "papermill": {
     "duration": 0.00718,
     "end_time": "2023-02-20T21:05:39.884111",
     "exception": false,
     "start_time": "2023-02-20T21:05:39.876931",
     "status": "completed"
    },
    "tags": []
   },
   "source": [
    "# 3.\n",
    "\n",
    "Now the researcher wants to supply multiple keywords to search for. Complete the function below to help her.\n",
    "\n",
    "(You're encouraged to use the `word_search` function you just wrote when implementing this function. Reusing code in this way makes your programs more robust and readable - and it saves typing!)"
   ]
  },
  {
   "cell_type": "code",
   "execution_count": 11,
   "id": "9cc24d49",
   "metadata": {
    "execution": {
     "iopub.execute_input": "2023-02-20T21:05:39.901329Z",
     "iopub.status.busy": "2023-02-20T21:05:39.900840Z",
     "iopub.status.idle": "2023-02-20T21:05:39.911045Z",
     "shell.execute_reply": "2023-02-20T21:05:39.910144Z"
    },
    "papermill": {
     "duration": 0.02145,
     "end_time": "2023-02-20T21:05:39.913171",
     "exception": false,
     "start_time": "2023-02-20T21:05:39.891721",
     "status": "completed"
    },
    "tags": []
   },
   "outputs": [
    {
     "data": {
      "application/javascript": [
       "parent.postMessage({\"jupyterEvent\": \"custom.exercise_interaction\", \"data\": {\"outcomeType\": 1, \"valueTowardsCompletion\": 0.3333333333333333, \"interactionType\": 1, \"questionType\": 2, \"questionId\": \"3_MultiWordSearch\", \"learnToolsVersion\": \"0.3.4\", \"failureMessage\": \"\", \"exceptionClass\": \"\", \"trace\": \"\"}}, \"*\")"
      ],
      "text/plain": [
       "<IPython.core.display.Javascript object>"
      ]
     },
     "metadata": {},
     "output_type": "display_data"
    },
    {
     "data": {
      "text/markdown": [
       "<span style=\"color:#33cc33\">Correct</span>"
      ],
      "text/plain": [
       "Correct"
      ]
     },
     "metadata": {},
     "output_type": "display_data"
    }
   ],
   "source": [
    "def multi_word_search(doc_list, keywords):\n",
    "    \"\"\"\n",
    "    Takes list of documents (each document is a string) and a list of keywords.  \n",
    "    Returns a dictionary where each key is a keyword, and the value is a list of indices\n",
    "    (from doc_list) of the documents containing that keyword\n",
    "\n",
    "    >>> doc_list = [\"The Learn Python Challenge Casino.\", \"They bought a car and a casino\", \"Casinoville\"]\n",
    "    >>> keywords = ['casino', 'they']\n",
    "    >>> multi_word_search(doc_list, keywords)\n",
    "    {'casino': [0, 1], 'they': [1]}\n",
    "    \"\"\"\n",
    "    dictionary = {word : word_search(doc_list, word) for word in keywords}\n",
    "    return dictionary\n",
    "    pass\n",
    "\n",
    "# Check your answer\n",
    "q3.check()"
   ]
  },
  {
   "cell_type": "code",
   "execution_count": 12,
   "id": "2b70242b",
   "metadata": {
    "execution": {
     "iopub.execute_input": "2023-02-20T21:05:39.931715Z",
     "iopub.status.busy": "2023-02-20T21:05:39.931188Z",
     "iopub.status.idle": "2023-02-20T21:05:39.936447Z",
     "shell.execute_reply": "2023-02-20T21:05:39.935449Z"
    },
    "papermill": {
     "duration": 0.01791,
     "end_time": "2023-02-20T21:05:39.938716",
     "exception": false,
     "start_time": "2023-02-20T21:05:39.920806",
     "status": "completed"
    },
    "tags": []
   },
   "outputs": [],
   "source": [
    "#q3.solution()"
   ]
  },
  {
   "cell_type": "markdown",
   "id": "ad6349a8",
   "metadata": {
    "papermill": {
     "duration": 0.007563,
     "end_time": "2023-02-20T21:05:39.954149",
     "exception": false,
     "start_time": "2023-02-20T21:05:39.946586",
     "status": "completed"
    },
    "tags": []
   },
   "source": [
    "# Keep Going\n",
    "\n",
    "You've learned a lot. But even the best programmers rely heavily on \"libraries\" of code from other programmers. You'll learn about that in **[the last lesson](https://www.kaggle.com/colinmorris/working-with-external-libraries)**.\n"
   ]
  },
  {
   "cell_type": "markdown",
   "id": "d1251608",
   "metadata": {
    "papermill": {
     "duration": 0.008068,
     "end_time": "2023-02-20T21:05:39.970027",
     "exception": false,
     "start_time": "2023-02-20T21:05:39.961959",
     "status": "completed"
    },
    "tags": []
   },
   "source": [
    "---\n",
    "\n",
    "\n",
    "\n",
    "\n",
    "*Have questions or comments? Visit the [course discussion forum](https://www.kaggle.com/learn/python/discussion) to chat with other learners.*"
   ]
  }
 ],
 "metadata": {
  "kernelspec": {
   "display_name": "Python 3",
   "language": "python",
   "name": "python3"
  },
  "language_info": {
   "codemirror_mode": {
    "name": "ipython",
    "version": 3
   },
   "file_extension": ".py",
   "mimetype": "text/x-python",
   "name": "python",
   "nbconvert_exporter": "python",
   "pygments_lexer": "ipython3",
   "version": "3.7.12"
  },
  "papermill": {
   "default_parameters": {},
   "duration": 10.351188,
   "end_time": "2023-02-20T21:05:40.701084",
   "environment_variables": {},
   "exception": null,
   "input_path": "__notebook__.ipynb",
   "output_path": "__notebook__.ipynb",
   "parameters": {},
   "start_time": "2023-02-20T21:05:30.349896",
   "version": "2.3.4"
  }
 },
 "nbformat": 4,
 "nbformat_minor": 5
}
