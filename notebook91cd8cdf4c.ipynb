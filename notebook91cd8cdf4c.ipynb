{
 "cells": [
  {
   "cell_type": "markdown",
   "id": "071d65a1",
   "metadata": {
    "papermill": {
     "duration": 0.01079,
     "end_time": "2023-02-20T10:56:25.287336",
     "exception": false,
     "start_time": "2023-02-20T10:56:25.276546",
     "status": "completed"
    },
    "tags": []
   },
   "source": [
    "**This notebook is an exercise in the [Python](https://www.kaggle.com/learn/python) course.  You can reference the tutorial at [this link](https://www.kaggle.com/colinmorris/hello-python).**\n",
    "\n",
    "---\n"
   ]
  },
  {
   "cell_type": "markdown",
   "id": "e59127e0",
   "metadata": {
    "papermill": {
     "duration": 0.007268,
     "end_time": "2023-02-20T10:56:25.301843",
     "exception": false,
     "start_time": "2023-02-20T10:56:25.294575",
     "status": "completed"
    },
    "tags": []
   },
   "source": [
    "Welcome to your first set of Python coding problems.  If this is your first time using Kaggle Notebooks, welcome! \n",
    "\n",
    "Notebooks are composed of blocks (called \"cells\") of text and code. Each of these is editable, though you'll mainly be editing the code cells to answer some questions.\n",
    "\n",
    "To get started, try running the code cell below (by pressing the ► button, or clicking on the cell and pressing ctrl+enter on your keyboard)."
   ]
  },
  {
   "cell_type": "code",
   "execution_count": 1,
   "id": "19c20759",
   "metadata": {
    "execution": {
     "iopub.execute_input": "2023-02-20T10:56:25.319296Z",
     "iopub.status.busy": "2023-02-20T10:56:25.318288Z",
     "iopub.status.idle": "2023-02-20T10:56:25.331534Z",
     "shell.execute_reply": "2023-02-20T10:56:25.330310Z"
    },
    "papermill": {
     "duration": 0.025571,
     "end_time": "2023-02-20T10:56:25.334519",
     "exception": false,
     "start_time": "2023-02-20T10:56:25.308948",
     "status": "completed"
    },
    "tags": []
   },
   "outputs": [
    {
     "name": "stdout",
     "output_type": "stream",
     "text": [
      "You've successfully run some Python code\n",
      "Congratulations!\n"
     ]
    }
   ],
   "source": [
    "print(\"You've successfully run some Python code\")\n",
    "print(\"Congratulations!\")"
   ]
  },
  {
   "cell_type": "markdown",
   "id": "5512d445",
   "metadata": {
    "papermill": {
     "duration": 0.006986,
     "end_time": "2023-02-20T10:56:25.349425",
     "exception": false,
     "start_time": "2023-02-20T10:56:25.342439",
     "status": "completed"
    },
    "tags": []
   },
   "source": [
    "Try adding another line of code in the cell above and re-running it. \n",
    "\n",
    "Now let's get a little fancier:  Add a new code cell by clicking on an existing code cell, hitting the escape key, and then hitting the `a` or `b` key.  The `a` key will add a cell above the current cell, and `b` adds a cell below.\n",
    "\n",
    "Great! Now you know how to use Notebooks.\n",
    "\n",
    "Each hands-on exercise starts by setting up our feedback and code checking mechanism. Run the code cell below to do that. Then you'll be ready to move on to question 0."
   ]
  },
  {
   "cell_type": "code",
   "execution_count": null,
   "id": "928c88a0",
   "metadata": {
    "papermill": {
     "duration": 0.007147,
     "end_time": "2023-02-20T10:56:25.363715",
     "exception": false,
     "start_time": "2023-02-20T10:56:25.356568",
     "status": "completed"
    },
    "tags": []
   },
   "outputs": [],
   "source": []
  },
  {
   "cell_type": "code",
   "execution_count": null,
   "id": "1299e1cf",
   "metadata": {
    "papermill": {
     "duration": 0.00705,
     "end_time": "2023-02-20T10:56:25.377935",
     "exception": false,
     "start_time": "2023-02-20T10:56:25.370885",
     "status": "completed"
    },
    "tags": []
   },
   "outputs": [],
   "source": []
  },
  {
   "cell_type": "code",
   "execution_count": null,
   "id": "cce4b881",
   "metadata": {
    "papermill": {
     "duration": 0.00694,
     "end_time": "2023-02-20T10:56:25.392118",
     "exception": false,
     "start_time": "2023-02-20T10:56:25.385178",
     "status": "completed"
    },
    "tags": []
   },
   "outputs": [],
   "source": []
  },
  {
   "cell_type": "code",
   "execution_count": 2,
   "id": "672f7863",
   "metadata": {
    "_kg_hide-input": true,
    "_kg_hide-output": true,
    "execution": {
     "iopub.execute_input": "2023-02-20T10:56:25.407839Z",
     "iopub.status.busy": "2023-02-20T10:56:25.407442Z",
     "iopub.status.idle": "2023-02-20T10:56:25.445293Z",
     "shell.execute_reply": "2023-02-20T10:56:25.443918Z"
    },
    "papermill": {
     "duration": 0.048578,
     "end_time": "2023-02-20T10:56:25.447684",
     "exception": false,
     "start_time": "2023-02-20T10:56:25.399106",
     "status": "completed"
    },
    "tags": []
   },
   "outputs": [
    {
     "name": "stdout",
     "output_type": "stream",
     "text": [
      "Setup complete! You're ready to start question 0.\n"
     ]
    }
   ],
   "source": [
    "from learntools.core import binder; binder.bind(globals())\n",
    "from learntools.python.ex1 import *\n",
    "print(\"Setup complete! You're ready to start question 0.\")"
   ]
  },
  {
   "cell_type": "markdown",
   "id": "750c7260",
   "metadata": {
    "papermill": {
     "duration": 0.006948,
     "end_time": "2023-02-20T10:56:25.461852",
     "exception": false,
     "start_time": "2023-02-20T10:56:25.454904",
     "status": "completed"
    },
    "tags": []
   },
   "source": [
    "# 0.\n",
    "\n",
    "*This is a silly question intended as an introduction to the format we use for hands-on exercises throughout all Kaggle courses.*\n",
    "\n",
    "**What is your favorite color? **\n",
    "\n",
    "To complete this question, create a variable called `color` in the cell below with an appropriate value. The function call `q0.check()` (which we've already provided in the cell below) will check your answer."
   ]
  },
  {
   "cell_type": "code",
   "execution_count": 3,
   "id": "d3063680",
   "metadata": {
    "execution": {
     "iopub.execute_input": "2023-02-20T10:56:25.478194Z",
     "iopub.status.busy": "2023-02-20T10:56:25.477787Z",
     "iopub.status.idle": "2023-02-20T10:56:25.489579Z",
     "shell.execute_reply": "2023-02-20T10:56:25.488496Z"
    },
    "papermill": {
     "duration": 0.022617,
     "end_time": "2023-02-20T10:56:25.491650",
     "exception": false,
     "start_time": "2023-02-20T10:56:25.469033",
     "status": "completed"
    },
    "tags": []
   },
   "outputs": [
    {
     "data": {
      "application/javascript": [
       "parent.postMessage({\"jupyterEvent\": \"custom.exercise_interaction\", \"data\": {\"outcomeType\": 1, \"valueTowardsCompletion\": 0.25, \"interactionType\": 1, \"questionType\": 2, \"questionId\": \"0_ExerciseFormatTutorial\", \"learnToolsVersion\": \"0.3.4\", \"failureMessage\": \"\", \"exceptionClass\": \"\", \"trace\": \"\"}}, \"*\")"
      ],
      "text/plain": [
       "<IPython.core.display.Javascript object>"
      ]
     },
     "metadata": {},
     "output_type": "display_data"
    },
    {
     "data": {
      "text/markdown": [
       "<span style=\"color:#33cc33\">Correct:</span> What?! You got it right without needing a hint or anything? Drats. Well hey, you should still continue to the next step to get some practice asking for a hint and checking solutions. (Even though you obviously don't need any help here.)"
      ],
      "text/plain": [
       "Correct: What?! You got it right without needing a hint or anything? Drats. Well hey, you should still continue to the next step to get some practice asking for a hint and checking solutions. (Even though you obviously don't need any help here.)"
      ]
     },
     "metadata": {},
     "output_type": "display_data"
    }
   ],
   "source": [
    "# create a variable called color with an appropriate value on the line below\n",
    "# (Remember, strings in Python must be enclosed in 'single' or \"double\" quotes)\n",
    "color = \"blue\"\n",
    "____\n",
    "\n",
    "# Check your answer\n",
    "q0.check()"
   ]
  },
  {
   "cell_type": "markdown",
   "id": "965bf43a",
   "metadata": {
    "papermill": {
     "duration": 0.007363,
     "end_time": "2023-02-20T10:56:25.507006",
     "exception": false,
     "start_time": "2023-02-20T10:56:25.499643",
     "status": "completed"
    },
    "tags": []
   },
   "source": [
    "Didn't get the right answer? How do you not even know your own favorite color?!\n",
    "\n",
    "Delete the `#` in the line below to make one of the lines run. You can choose between getting a hint or the full answer by choosing which line to remove the `#` from. \n",
    "\n",
    "Removing the `#` is called uncommenting, because it changes that line from a \"comment\" which Python doesn't run to code, which Python does run."
   ]
  },
  {
   "cell_type": "code",
   "execution_count": 4,
   "id": "a9c33bae",
   "metadata": {
    "execution": {
     "iopub.execute_input": "2023-02-20T10:56:25.523997Z",
     "iopub.status.busy": "2023-02-20T10:56:25.523273Z",
     "iopub.status.idle": "2023-02-20T10:56:25.527394Z",
     "shell.execute_reply": "2023-02-20T10:56:25.526490Z"
    },
    "papermill": {
     "duration": 0.014908,
     "end_time": "2023-02-20T10:56:25.529398",
     "exception": false,
     "start_time": "2023-02-20T10:56:25.514490",
     "status": "completed"
    },
    "tags": []
   },
   "outputs": [],
   "source": [
    "#q0.hint()\n",
    "#q0.solution()"
   ]
  },
  {
   "cell_type": "markdown",
   "id": "3f3c0a25",
   "metadata": {
    "papermill": {
     "duration": 0.007058,
     "end_time": "2023-02-20T10:56:25.543955",
     "exception": false,
     "start_time": "2023-02-20T10:56:25.536897",
     "status": "completed"
    },
    "tags": []
   },
   "source": [
    "The upcoming questions work the same way. The only thing that will change are the question numbers. For the next question, you'll call `q1.check()`, `q1.hint()`, `q1.solution()`, for question 2, you'll call `q2.check()`, and so on."
   ]
  },
  {
   "cell_type": "markdown",
   "id": "6090c1f8",
   "metadata": {
    "papermill": {
     "duration": 0.007083,
     "end_time": "2023-02-20T10:56:25.558438",
     "exception": false,
     "start_time": "2023-02-20T10:56:25.551355",
     "status": "completed"
    },
    "tags": []
   },
   "source": [
    "<hr/>\n",
    "\n",
    "# 1.\n",
    "\n",
    "Complete the code below. In case it's helpful, here is the table of available arithmetic operations:\n",
    "\n",
    "\n",
    "\n",
    "| Operator     | Name           | Description                                            |\n",
    "|--------------|----------------|--------------------------------------------------------|\n",
    "| ``a + b``    | Addition       | Sum of ``a`` and ``b``                                 |\n",
    "| ``a - b``    | Subtraction    | Difference of ``a`` and ``b``                          |\n",
    "| ``a * b``    | Multiplication | Product of ``a`` and ``b``                             |\n",
    "| ``a / b``    | True division  | Quotient of ``a`` and ``b``                            |\n",
    "| ``a // b``   | Floor division | Quotient of ``a`` and ``b``, removing fractional parts |\n",
    "| ``a % b``    | Modulus        | Integer remainder after division of ``a`` by ``b``     |\n",
    "| ``a ** b``   | Exponentiation | ``a`` raised to the power of ``b``                     |\n",
    "| ``-a``       | Negation       | The negative of ``a``                                  |\n",
    "\n",
    "<span style=\"display:none\"></span>\n"
   ]
  },
  {
   "cell_type": "code",
   "execution_count": 5,
   "id": "f289fe00",
   "metadata": {
    "execution": {
     "iopub.execute_input": "2023-02-20T10:56:25.575105Z",
     "iopub.status.busy": "2023-02-20T10:56:25.574367Z",
     "iopub.status.idle": "2023-02-20T10:56:25.582398Z",
     "shell.execute_reply": "2023-02-20T10:56:25.581597Z"
    },
    "papermill": {
     "duration": 0.018646,
     "end_time": "2023-02-20T10:56:25.584330",
     "exception": false,
     "start_time": "2023-02-20T10:56:25.565684",
     "status": "completed"
    },
    "tags": []
   },
   "outputs": [
    {
     "data": {
      "application/javascript": [
       "parent.postMessage({\"jupyterEvent\": \"custom.exercise_interaction\", \"data\": {\"outcomeType\": 1, \"valueTowardsCompletion\": 0.25, \"interactionType\": 1, \"questionType\": 1, \"questionId\": \"1_CircleArea\", \"learnToolsVersion\": \"0.3.4\", \"failureMessage\": \"\", \"exceptionClass\": \"\", \"trace\": \"\"}}, \"*\")"
      ],
      "text/plain": [
       "<IPython.core.display.Javascript object>"
      ]
     },
     "metadata": {},
     "output_type": "display_data"
    },
    {
     "data": {
      "text/markdown": [
       "<span style=\"color:#33cc33\">Correct</span>"
      ],
      "text/plain": [
       "Correct"
      ]
     },
     "metadata": {},
     "output_type": "display_data"
    }
   ],
   "source": [
    "pi = 3.14159 # approximate\n",
    "diameter = 3\n",
    "\n",
    "# Create a variable called 'radius' equal to half the diameter\n",
    "radius = diameter / 2\n",
    "____\n",
    "\n",
    "# Create a variable called 'area', using the formula for the area of a circle: pi times the radius squared\n",
    "area = radius ** 2 * pi\n",
    "____\n",
    "\n",
    "# Check your answer\n",
    "q1.check()"
   ]
  },
  {
   "cell_type": "code",
   "execution_count": 6,
   "id": "062276aa",
   "metadata": {
    "execution": {
     "iopub.execute_input": "2023-02-20T10:56:25.601448Z",
     "iopub.status.busy": "2023-02-20T10:56:25.601000Z",
     "iopub.status.idle": "2023-02-20T10:56:25.605922Z",
     "shell.execute_reply": "2023-02-20T10:56:25.604798Z"
    },
    "papermill": {
     "duration": 0.015918,
     "end_time": "2023-02-20T10:56:25.608011",
     "exception": false,
     "start_time": "2023-02-20T10:56:25.592093",
     "status": "completed"
    },
    "tags": []
   },
   "outputs": [],
   "source": [
    "# Uncomment and run the lines below if you need help.\n",
    "#q1.hint()\n",
    "#q1.solution()"
   ]
  },
  {
   "cell_type": "markdown",
   "id": "018810bb",
   "metadata": {
    "papermill": {
     "duration": 0.00755,
     "end_time": "2023-02-20T10:56:25.623315",
     "exception": false,
     "start_time": "2023-02-20T10:56:25.615765",
     "status": "completed"
    },
    "tags": []
   },
   "source": [
    "<hr/>\n",
    "\n",
    "# 2.\n",
    "\n",
    "Add code to the following cell to swap variables `a` and `b` (so that `a` refers to the object previously referred to by `b` and vice versa)."
   ]
  },
  {
   "cell_type": "code",
   "execution_count": 7,
   "id": "45a4c10a",
   "metadata": {
    "execution": {
     "iopub.execute_input": "2023-02-20T10:56:25.640685Z",
     "iopub.status.busy": "2023-02-20T10:56:25.640260Z",
     "iopub.status.idle": "2023-02-20T10:56:25.649157Z",
     "shell.execute_reply": "2023-02-20T10:56:25.648361Z"
    },
    "papermill": {
     "duration": 0.020108,
     "end_time": "2023-02-20T10:56:25.651192",
     "exception": false,
     "start_time": "2023-02-20T10:56:25.631084",
     "status": "completed"
    },
    "tags": []
   },
   "outputs": [
    {
     "data": {
      "application/javascript": [
       "parent.postMessage({\"jupyterEvent\": \"custom.exercise_interaction\", \"data\": {\"outcomeType\": 1, \"valueTowardsCompletion\": 0.25, \"interactionType\": 1, \"questionType\": 2, \"questionId\": \"2_VariableSwap\", \"learnToolsVersion\": \"0.3.4\", \"failureMessage\": \"\", \"exceptionClass\": \"\", \"trace\": \"\"}}, \"*\")"
      ],
      "text/plain": [
       "<IPython.core.display.Javascript object>"
      ]
     },
     "metadata": {},
     "output_type": "display_data"
    },
    {
     "data": {
      "text/markdown": [
       "<span style=\"color:#33cc33\">Correct:</span> \n",
       "\n",
       "The most straightforward solution is to use a third variable to temporarily store one of the old values. e.g.:\n",
       "\n",
       "    tmp = a\n",
       "    a = b\n",
       "    b = tmp\n",
       "\n",
       "If you've read lots of Python code, you might have seen the following trick to swap two variables in one line:\n",
       "\n",
       "    a, b = b, a\n",
       "\n",
       "We'll demystify this bit of Python magic later when we talk about *tuples*."
      ],
      "text/plain": [
       "Correct: \n",
       "\n",
       "The most straightforward solution is to use a third variable to temporarily store one of the old values. e.g.:\n",
       "\n",
       "    tmp = a\n",
       "    a = b\n",
       "    b = tmp\n",
       "\n",
       "If you've read lots of Python code, you might have seen the following trick to swap two variables in one line:\n",
       "\n",
       "    a, b = b, a\n",
       "\n",
       "We'll demystify this bit of Python magic later when we talk about *tuples*."
      ]
     },
     "metadata": {},
     "output_type": "display_data"
    }
   ],
   "source": [
    "########### Setup code - don't touch this part ######################\n",
    "# If you're curious, these are examples of lists. We'll talk about \n",
    "# them in depth a few lessons from now. For now, just know that they're\n",
    "# yet another type of Python object, like int or float.\n",
    "a = [1, 2, 3]\n",
    "b = [3, 2, 1]\n",
    "q2.store_original_ids()\n",
    "######################################################################\n",
    "\n",
    "# Your code goes here. Swap the values to which a and b refer.\n",
    "# If you get stuck, you can always uncomment one or both of the lines in\n",
    "# the next cell for a hint, or to peek at the solution.\n",
    "temp = a\n",
    "a = b\n",
    "b = temp\n",
    "######################################################################\n",
    "\n",
    "# Check your answer\n",
    "q2.check()"
   ]
  },
  {
   "cell_type": "code",
   "execution_count": 8,
   "id": "d2edd7aa",
   "metadata": {
    "execution": {
     "iopub.execute_input": "2023-02-20T10:56:25.669735Z",
     "iopub.status.busy": "2023-02-20T10:56:25.668642Z",
     "iopub.status.idle": "2023-02-20T10:56:25.677600Z",
     "shell.execute_reply": "2023-02-20T10:56:25.676563Z"
    },
    "papermill": {
     "duration": 0.02037,
     "end_time": "2023-02-20T10:56:25.679723",
     "exception": false,
     "start_time": "2023-02-20T10:56:25.659353",
     "status": "completed"
    },
    "tags": []
   },
   "outputs": [
    {
     "data": {
      "application/javascript": [
       "parent.postMessage({\"jupyterEvent\": \"custom.exercise_interaction\", \"data\": {\"interactionType\": 2, \"questionType\": 2, \"questionId\": \"2_VariableSwap\", \"learnToolsVersion\": \"0.3.4\", \"valueTowardsCompletion\": 0.0, \"failureMessage\": \"\", \"exceptionClass\": \"\", \"trace\": \"\", \"outcomeType\": 4}}, \"*\")"
      ],
      "text/plain": [
       "<IPython.core.display.Javascript object>"
      ]
     },
     "metadata": {},
     "output_type": "display_data"
    },
    {
     "data": {
      "text/markdown": [
       "<span style=\"color:#3366cc\">Hint:</span> Try using a third variable."
      ],
      "text/plain": [
       "Hint: Try using a third variable."
      ]
     },
     "metadata": {},
     "output_type": "display_data"
    }
   ],
   "source": [
    "q2.hint()"
   ]
  },
  {
   "cell_type": "code",
   "execution_count": 9,
   "id": "9e53b557",
   "metadata": {
    "execution": {
     "iopub.execute_input": "2023-02-20T10:56:25.698880Z",
     "iopub.status.busy": "2023-02-20T10:56:25.697728Z",
     "iopub.status.idle": "2023-02-20T10:56:25.703363Z",
     "shell.execute_reply": "2023-02-20T10:56:25.702202Z"
    },
    "papermill": {
     "duration": 0.017825,
     "end_time": "2023-02-20T10:56:25.705818",
     "exception": false,
     "start_time": "2023-02-20T10:56:25.687993",
     "status": "completed"
    },
    "tags": []
   },
   "outputs": [],
   "source": [
    "#q2.solution()"
   ]
  },
  {
   "cell_type": "markdown",
   "id": "d277b92d",
   "metadata": {
    "papermill": {
     "duration": 0.007949,
     "end_time": "2023-02-20T10:56:25.722262",
     "exception": false,
     "start_time": "2023-02-20T10:56:25.714313",
     "status": "completed"
    },
    "tags": []
   },
   "source": [
    "<hr/>\n",
    "\n",
    "# 3a.\n",
    "\n",
    "Add parentheses to the following expression so that it evaluates to 1."
   ]
  },
  {
   "cell_type": "code",
   "execution_count": 10,
   "id": "2a295e24",
   "metadata": {
    "execution": {
     "iopub.execute_input": "2023-02-20T10:56:25.740452Z",
     "iopub.status.busy": "2023-02-20T10:56:25.740020Z",
     "iopub.status.idle": "2023-02-20T10:56:25.746508Z",
     "shell.execute_reply": "2023-02-20T10:56:25.745481Z"
    },
    "papermill": {
     "duration": 0.018518,
     "end_time": "2023-02-20T10:56:25.749095",
     "exception": false,
     "start_time": "2023-02-20T10:56:25.730577",
     "status": "completed"
    },
    "tags": []
   },
   "outputs": [
    {
     "data": {
      "text/plain": [
       "1"
      ]
     },
     "execution_count": 10,
     "metadata": {},
     "output_type": "execute_result"
    }
   ],
   "source": [
    "(5 - 3) // 2"
   ]
  },
  {
   "cell_type": "code",
   "execution_count": 11,
   "id": "95ae9bfe",
   "metadata": {
    "execution": {
     "iopub.execute_input": "2023-02-20T10:56:25.767563Z",
     "iopub.status.busy": "2023-02-20T10:56:25.767166Z",
     "iopub.status.idle": "2023-02-20T10:56:25.771634Z",
     "shell.execute_reply": "2023-02-20T10:56:25.770535Z"
    },
    "papermill": {
     "duration": 0.016344,
     "end_time": "2023-02-20T10:56:25.773824",
     "exception": false,
     "start_time": "2023-02-20T10:56:25.757480",
     "status": "completed"
    },
    "tags": []
   },
   "outputs": [],
   "source": [
    "#q3.a.hint()"
   ]
  },
  {
   "cell_type": "code",
   "execution_count": 12,
   "id": "fb694b38",
   "metadata": {
    "execution": {
     "iopub.execute_input": "2023-02-20T10:56:25.792080Z",
     "iopub.status.busy": "2023-02-20T10:56:25.791677Z",
     "iopub.status.idle": "2023-02-20T10:56:25.800156Z",
     "shell.execute_reply": "2023-02-20T10:56:25.799380Z"
    },
    "papermill": {
     "duration": 0.020202,
     "end_time": "2023-02-20T10:56:25.802386",
     "exception": false,
     "start_time": "2023-02-20T10:56:25.782184",
     "status": "completed"
    },
    "tags": []
   },
   "outputs": [
    {
     "data": {
      "application/javascript": [
       "parent.postMessage({\"jupyterEvent\": \"custom.exercise_interaction\", \"data\": {\"interactionType\": 3, \"questionType\": 4, \"questionId\": \"3.1_ArithmeticParensEasy\", \"learnToolsVersion\": \"0.3.4\", \"valueTowardsCompletion\": 0.0, \"failureMessage\": \"\", \"exceptionClass\": \"\", \"trace\": \"\", \"outcomeType\": 4}}, \"*\")"
      ],
      "text/plain": [
       "<IPython.core.display.Javascript object>"
      ]
     },
     "metadata": {},
     "output_type": "display_data"
    },
    {
     "data": {
      "text/markdown": [
       "<span style=\"color:#33cc99\">Solution:</span> \n",
       "```python\n",
       "(5 - 3) // 2\n",
       "```"
      ],
      "text/plain": [
       "Solution: \n",
       "```python\n",
       "(5 - 3) // 2\n",
       "```"
      ]
     },
     "metadata": {},
     "output_type": "display_data"
    }
   ],
   "source": [
    "# Check your answer (Run this code cell to receive credit!)\n",
    "q3.a.solution()"
   ]
  },
  {
   "cell_type": "markdown",
   "id": "207858bd",
   "metadata": {
    "papermill": {
     "duration": 0.008239,
     "end_time": "2023-02-20T10:56:25.819535",
     "exception": false,
     "start_time": "2023-02-20T10:56:25.811296",
     "status": "completed"
    },
    "tags": []
   },
   "source": [
    "# 3b.  <span title=\"A bit spicy\" style=\"color: darkgreen \">🌶️</span>\n",
    "\n",
    "<small>Questions, like this one, marked a spicy pepper are a bit harder.</small>\n",
    "\n",
    "Add parentheses to the following expression so that it evaluates to 0."
   ]
  },
  {
   "cell_type": "code",
   "execution_count": 13,
   "id": "0a52f975",
   "metadata": {
    "execution": {
     "iopub.execute_input": "2023-02-20T10:56:25.838852Z",
     "iopub.status.busy": "2023-02-20T10:56:25.838448Z",
     "iopub.status.idle": "2023-02-20T10:56:25.844986Z",
     "shell.execute_reply": "2023-02-20T10:56:25.843951Z"
    },
    "papermill": {
     "duration": 0.019086,
     "end_time": "2023-02-20T10:56:25.847267",
     "exception": false,
     "start_time": "2023-02-20T10:56:25.828181",
     "status": "completed"
    },
    "tags": []
   },
   "outputs": [
    {
     "data": {
      "text/plain": [
       "0"
      ]
     },
     "execution_count": 13,
     "metadata": {},
     "output_type": "execute_result"
    }
   ],
   "source": [
    "(8 - 3) * (2 - (1 + 1))"
   ]
  },
  {
   "cell_type": "code",
   "execution_count": 14,
   "id": "b54a0ffc",
   "metadata": {
    "execution": {
     "iopub.execute_input": "2023-02-20T10:56:25.866859Z",
     "iopub.status.busy": "2023-02-20T10:56:25.866128Z",
     "iopub.status.idle": "2023-02-20T10:56:25.870853Z",
     "shell.execute_reply": "2023-02-20T10:56:25.869724Z"
    },
    "papermill": {
     "duration": 0.016936,
     "end_time": "2023-02-20T10:56:25.872866",
     "exception": false,
     "start_time": "2023-02-20T10:56:25.855930",
     "status": "completed"
    },
    "tags": []
   },
   "outputs": [],
   "source": [
    "#q3.b.hint()"
   ]
  },
  {
   "cell_type": "code",
   "execution_count": 15,
   "id": "115a0ddc",
   "metadata": {
    "execution": {
     "iopub.execute_input": "2023-02-20T10:56:25.891977Z",
     "iopub.status.busy": "2023-02-20T10:56:25.891558Z",
     "iopub.status.idle": "2023-02-20T10:56:25.899337Z",
     "shell.execute_reply": "2023-02-20T10:56:25.898491Z"
    },
    "papermill": {
     "duration": 0.019776,
     "end_time": "2023-02-20T10:56:25.901255",
     "exception": false,
     "start_time": "2023-02-20T10:56:25.881479",
     "status": "completed"
    },
    "tags": []
   },
   "outputs": [
    {
     "data": {
      "application/javascript": [
       "parent.postMessage({\"jupyterEvent\": \"custom.exercise_interaction\", \"data\": {\"interactionType\": 3, \"questionType\": 4, \"questionId\": \"3.2_ArithmeticParensHard\", \"learnToolsVersion\": \"0.3.4\", \"valueTowardsCompletion\": 0.0, \"failureMessage\": \"\", \"exceptionClass\": \"\", \"trace\": \"\", \"outcomeType\": 4}}, \"*\")"
      ],
      "text/plain": [
       "<IPython.core.display.Javascript object>"
      ]
     },
     "metadata": {},
     "output_type": "display_data"
    },
    {
     "data": {
      "text/markdown": [
       "<span style=\"color:#33cc99\">Solution:</span> `(8 - 3) * (2 - (1 + 1))` is one solution. There may be others."
      ],
      "text/plain": [
       "Solution: `(8 - 3) * (2 - (1 + 1))` is one solution. There may be others."
      ]
     },
     "metadata": {},
     "output_type": "display_data"
    }
   ],
   "source": [
    "# Check your answer (Run this code cell to receive credit!)\n",
    "q3.b.solution()"
   ]
  },
  {
   "cell_type": "markdown",
   "id": "eb30cb91",
   "metadata": {
    "papermill": {
     "duration": 0.008474,
     "end_time": "2023-02-20T10:56:25.918609",
     "exception": false,
     "start_time": "2023-02-20T10:56:25.910135",
     "status": "completed"
    },
    "tags": []
   },
   "source": [
    "<hr/>\n",
    "\n",
    "# 4. \n",
    "Alice, Bob and Carol have agreed to pool their Halloween candy and split it evenly among themselves.\n",
    "For the sake of their friendship, any candies left over will be smashed. For example, if they collectively\n",
    "bring home 91 candies, they'll take 30 each and smash 1.\n",
    "\n",
    "Write an arithmetic expression below to calculate how many candies they must smash for a given haul."
   ]
  },
  {
   "cell_type": "code",
   "execution_count": 16,
   "id": "e7a63b82",
   "metadata": {
    "execution": {
     "iopub.execute_input": "2023-02-20T10:56:25.937928Z",
     "iopub.status.busy": "2023-02-20T10:56:25.937506Z",
     "iopub.status.idle": "2023-02-20T10:56:25.947521Z",
     "shell.execute_reply": "2023-02-20T10:56:25.946497Z"
    },
    "papermill": {
     "duration": 0.02229,
     "end_time": "2023-02-20T10:56:25.949660",
     "exception": false,
     "start_time": "2023-02-20T10:56:25.927370",
     "status": "completed"
    },
    "tags": []
   },
   "outputs": [
    {
     "data": {
      "application/javascript": [
       "parent.postMessage({\"jupyterEvent\": \"custom.exercise_interaction\", \"data\": {\"outcomeType\": 1, \"valueTowardsCompletion\": 0.25, \"interactionType\": 1, \"questionType\": 1, \"questionId\": \"4_CandySplitting\", \"learnToolsVersion\": \"0.3.4\", \"failureMessage\": \"\", \"exceptionClass\": \"\", \"trace\": \"\"}}, \"*\")"
      ],
      "text/plain": [
       "<IPython.core.display.Javascript object>"
      ]
     },
     "metadata": {},
     "output_type": "display_data"
    },
    {
     "data": {
      "text/markdown": [
       "<span style=\"color:#33cc33\">Correct</span>"
      ],
      "text/plain": [
       "Correct"
      ]
     },
     "metadata": {},
     "output_type": "display_data"
    }
   ],
   "source": [
    "# Variables representing the number of candies collected by alice, bob, and carol\n",
    "alice_candies = 121\n",
    "bob_candies = 77\n",
    "carol_candies = 109\n",
    "\n",
    "# Your code goes here! Replace the right-hand side of this assignment with an expression\n",
    "# involving alice_candies, bob_candies, and carol_candies\n",
    "to_smash = ( bob_candies + carol_candies + alice_candies) % 3\n",
    "\n",
    "# Check your answer\n",
    "q4.check()"
   ]
  },
  {
   "cell_type": "code",
   "execution_count": 17,
   "id": "1d26b56d",
   "metadata": {
    "execution": {
     "iopub.execute_input": "2023-02-20T10:56:25.970304Z",
     "iopub.status.busy": "2023-02-20T10:56:25.969877Z",
     "iopub.status.idle": "2023-02-20T10:56:25.974278Z",
     "shell.execute_reply": "2023-02-20T10:56:25.973251Z"
    },
    "papermill": {
     "duration": 0.017528,
     "end_time": "2023-02-20T10:56:25.976522",
     "exception": false,
     "start_time": "2023-02-20T10:56:25.958994",
     "status": "completed"
    },
    "tags": []
   },
   "outputs": [],
   "source": [
    "#q4.hint()\n",
    "#q4.solution()"
   ]
  },
  {
   "cell_type": "markdown",
   "id": "0c16c172",
   "metadata": {
    "papermill": {
     "duration": 0.009856,
     "end_time": "2023-02-20T10:56:25.995555",
     "exception": false,
     "start_time": "2023-02-20T10:56:25.985699",
     "status": "completed"
    },
    "tags": []
   },
   "source": [
    "# Keep Going\n",
    "\n",
    "Next up, you'll **[learn to write new functions and understand functions others write](https://www.kaggle.com/colinmorris/functions-and-getting-help)**. This will make you at least 10 times more productive as a Python programmer. "
   ]
  },
  {
   "cell_type": "markdown",
   "id": "264ac708",
   "metadata": {
    "papermill": {
     "duration": 0.008765,
     "end_time": "2023-02-20T10:56:26.013595",
     "exception": false,
     "start_time": "2023-02-20T10:56:26.004830",
     "status": "completed"
    },
    "tags": []
   },
   "source": [
    "---\n",
    "\n",
    "\n",
    "\n",
    "\n",
    "*Have questions or comments? Visit the [course discussion forum](https://www.kaggle.com/learn/python/discussion) to chat with other learners.*"
   ]
  }
 ],
 "metadata": {
  "kernelspec": {
   "display_name": "Python 3",
   "language": "python",
   "name": "python3"
  },
  "language_info": {
   "codemirror_mode": {
    "name": "ipython",
    "version": 3
   },
   "file_extension": ".py",
   "mimetype": "text/x-python",
   "name": "python",
   "nbconvert_exporter": "python",
   "pygments_lexer": "ipython3",
   "version": "3.7.12"
  },
  "papermill": {
   "default_parameters": {},
   "duration": 9.437818,
   "end_time": "2023-02-20T10:56:26.643103",
   "environment_variables": {},
   "exception": null,
   "input_path": "__notebook__.ipynb",
   "output_path": "__notebook__.ipynb",
   "parameters": {},
   "start_time": "2023-02-20T10:56:17.205285",
   "version": "2.3.4"
  }
 },
 "nbformat": 4,
 "nbformat_minor": 5
}
